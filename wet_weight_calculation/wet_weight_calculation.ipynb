{
 "cells": [
  {
   "cell_type": "code",
   "execution_count": 1,
   "metadata": {},
   "outputs": [],
   "source": [
    "# Load dependencies \n",
    "import numpy as np\n",
    "import pandas as pd\n",
    "from scipy.stats.mstats import gmean"
   ]
  },
  {
   "cell_type": "markdown",
   "metadata": {},
   "source": [
    "# Wet weight calculation\n",
    "\n",
    "\n",
    "## Biomass wet weight \n",
    "\n",
    "The biomass wet weight is derived based on the dry weight using a conversion factor  (see below, the ratio between the wet and dry weights). The factor is based on the wet to dry mass ratio of trees, which represent the majority of the global biomass. It is composed of the corresponding factors of the three main tree compartments: roots, stem and leaves. The three factors were derived according to wet mass records, moisture content data and dry matter content measurements respectively.\n",
    "\n",
    "$\\begin{equation*}Conversion\\,factor\\,(\\alpha) = \\frac{Mwet}{Mdry} \\end{equation*}$\n",
    "\n",
    "### Stem\n",
    "\n",
    "The stem wet to dry mass conversion factor is computed based on a dataset of the average green wood moisture content (MC) of 62 tree species by [Glass et al.](https://www.fs.usda.gov/treesearch/pubs/37428).\n",
    "\n",
    "$\\begin{equation*}Moisture\\,Content\\,(MC) = \\frac{Mwet-Mdry}{Mdry} = \\alpha -1  \\end{equation*}$\n",
    "\n",
    "The dataset contains the MC values of sapwood and heartwood of each species (classified into softwood or hardwood). Here is a sample: "
   ]
  },
  {
   "cell_type": "code",
   "execution_count": 2,
   "metadata": {},
   "outputs": [
    {
     "data": {
      "text/html": [
       "<div>\n",
       "<style scoped>\n",
       "    .dataframe tbody tr th:only-of-type {\n",
       "        vertical-align: middle;\n",
       "    }\n",
       "\n",
       "    .dataframe tbody tr th {\n",
       "        vertical-align: top;\n",
       "    }\n",
       "\n",
       "    .dataframe thead th {\n",
       "        text-align: right;\n",
       "    }\n",
       "</style>\n",
       "<table border=\"1\" class=\"dataframe\">\n",
       "  <thead>\n",
       "    <tr style=\"text-align: right;\">\n",
       "      <th></th>\n",
       "      <th>Species</th>\n",
       "      <th>Type</th>\n",
       "      <th>Heartwood MC%</th>\n",
       "      <th>Sapwood MC%</th>\n",
       "    </tr>\n",
       "  </thead>\n",
       "  <tbody>\n",
       "    <tr>\n",
       "      <th>0</th>\n",
       "      <td>Maple, Silver</td>\n",
       "      <td>Hardwood</td>\n",
       "      <td>58</td>\n",
       "      <td>97</td>\n",
       "    </tr>\n",
       "    <tr>\n",
       "      <th>1</th>\n",
       "      <td>Maple, Sugar</td>\n",
       "      <td>Hardwood</td>\n",
       "      <td>65</td>\n",
       "      <td>72</td>\n",
       "    </tr>\n",
       "    <tr>\n",
       "      <th>2</th>\n",
       "      <td>Birch, Paper</td>\n",
       "      <td>Hardwood</td>\n",
       "      <td>89</td>\n",
       "      <td>72</td>\n",
       "    </tr>\n",
       "    <tr>\n",
       "      <th>3</th>\n",
       "      <td>Birch, Sweet</td>\n",
       "      <td>Hardwood</td>\n",
       "      <td>75</td>\n",
       "      <td>70</td>\n",
       "    </tr>\n",
       "    <tr>\n",
       "      <th>4</th>\n",
       "      <td>Birch, Yellow</td>\n",
       "      <td>Hardwood</td>\n",
       "      <td>74</td>\n",
       "      <td>72</td>\n",
       "    </tr>\n",
       "  </tbody>\n",
       "</table>\n",
       "</div>"
      ],
      "text/plain": [
       "         Species      Type  Heartwood MC%  Sapwood MC%\n",
       "0  Maple, Silver  Hardwood             58           97\n",
       "1   Maple, Sugar  Hardwood             65           72\n",
       "2   Birch, Paper  Hardwood             89           72\n",
       "3   Birch, Sweet  Hardwood             75           70\n",
       "4  Birch, Yellow  Hardwood             74           72"
      ]
     },
     "execution_count": 2,
     "metadata": {},
     "output_type": "execute_result"
    }
   ],
   "source": [
    "#Load trees MC data\n",
    "wood_MC = pd.read_excel(\"wood_MC.xlsx\")\n",
    "wood_MC.head()"
   ]
  },
  {
   "cell_type": "markdown",
   "metadata": {},
   "source": [
    "Our best estimate of trees MC value is the geometric mean of the MC values of all available species. \n",
    "The best estimate of each species MC value is based on the mean of the respective sapwood and heartwood MC values, assuming the mass ratio between heartwood and sapwood is 1:1."
   ]
  },
  {
   "cell_type": "code",
   "execution_count": 3,
   "metadata": {},
   "outputs": [],
   "source": [
    "mc_tot = gmean((wood_MC['Heartwood MC%'] + wood_MC['Sapwood MC%'])/2).round(-1)\n",
    "#MC units are (%)"
   ]
  },
  {
   "cell_type": "markdown",
   "metadata": {},
   "source": [
    "We now convert the derived MC value to dry to wet mass conversion factor according to the above formula (i.e. dividing the MC% values by 100% and adding 1). This results in our best estimate of the overall wood dry to wet mass factor:"
   ]
  },
  {
   "cell_type": "code",
   "execution_count": 4,
   "metadata": {},
   "outputs": [
    {
     "name": "stdout",
     "output_type": "stream",
     "text": [
      "Our best estimate of the stem dry to wet mass conversion factor is 1.9\n"
     ]
    }
   ],
   "source": [
    "stem_d2w = mc_tot/100 + 1 \n",
    "\n",
    "print 'Our best estimate of the stem dry to wet mass conversion factor is ' + str(stem_d2w)"
   ]
  },
  {
   "cell_type": "markdown",
   "metadata": {},
   "source": [
    "### Roots\n",
    "\n",
    "The roots mass conversion factor is calculated according to 30 wet and dry roots mass measurements of total of 4 tree species by [Guo et al.](https://doi.org/10.1007/s11104-013-1710-4).<br>Here is a sample from Guo et al.:"
   ]
  },
  {
   "cell_type": "code",
   "execution_count": 5,
   "metadata": {},
   "outputs": [
    {
     "data": {
      "text/html": [
       "<div>\n",
       "<style scoped>\n",
       "    .dataframe tbody tr th:only-of-type {\n",
       "        vertical-align: middle;\n",
       "    }\n",
       "\n",
       "    .dataframe tbody tr th {\n",
       "        vertical-align: top;\n",
       "    }\n",
       "\n",
       "    .dataframe thead th {\n",
       "        text-align: right;\n",
       "    }\n",
       "</style>\n",
       "<table border=\"1\" class=\"dataframe\">\n",
       "  <thead>\n",
       "    <tr style=\"text-align: right;\">\n",
       "      <th></th>\n",
       "      <th>Root Index</th>\n",
       "      <th>Fresh Weight (g)</th>\n",
       "      <th>Dry Weight (g)</th>\n",
       "    </tr>\n",
       "  </thead>\n",
       "  <tbody>\n",
       "    <tr>\n",
       "      <th>0</th>\n",
       "      <td>1a</td>\n",
       "      <td>602</td>\n",
       "      <td>246</td>\n",
       "    </tr>\n",
       "    <tr>\n",
       "      <th>1</th>\n",
       "      <td>1b</td>\n",
       "      <td>656</td>\n",
       "      <td>317</td>\n",
       "    </tr>\n",
       "    <tr>\n",
       "      <th>2</th>\n",
       "      <td>1c</td>\n",
       "      <td>547</td>\n",
       "      <td>231</td>\n",
       "    </tr>\n",
       "    <tr>\n",
       "      <th>3</th>\n",
       "      <td>1d</td>\n",
       "      <td>682</td>\n",
       "      <td>306</td>\n",
       "    </tr>\n",
       "    <tr>\n",
       "      <th>4</th>\n",
       "      <td>1e</td>\n",
       "      <td>640</td>\n",
       "      <td>288</td>\n",
       "    </tr>\n",
       "  </tbody>\n",
       "</table>\n",
       "</div>"
      ],
      "text/plain": [
       "  Root Index  Fresh Weight (g)  Dry Weight (g)\n",
       "0         1a               602             246\n",
       "1         1b               656             317\n",
       "2         1c               547             231\n",
       "3         1d               682             306\n",
       "4         1e               640             288"
      ]
     },
     "execution_count": 5,
     "metadata": {},
     "output_type": "execute_result"
    }
   ],
   "source": [
    "#Load roots records\n",
    "roots = pd.read_excel(\"roots_meas.xlsx\")\n",
    "roots.head()"
   ]
  },
  {
   "cell_type": "markdown",
   "metadata": {},
   "source": [
    "Our best estimate of the conversion factor is the geometric mean of all calculated conversion factors of all samples:"
   ]
  },
  {
   "cell_type": "code",
   "execution_count": 6,
   "metadata": {},
   "outputs": [
    {
     "name": "stdout",
     "output_type": "stream",
     "text": [
      "Our best estimate of the roots dry to wet mass conversion factor is 2.1\n"
     ]
    }
   ],
   "source": [
    "roots_d2w = gmean((roots['Fresh Weight (g)']/ roots['Dry Weight (g)'])).round(1)\n",
    "\n",
    "print 'Our best estimate of the roots dry to wet mass conversion factor is ' + str(roots_d2w)"
   ]
  },
  {
   "cell_type": "markdown",
   "metadata": {},
   "source": [
    "### Leaves\n",
    "\n",
    "The dry to wet mass conversion factor of leaves is derived based on dry matter content (DMC) datasets ([Boucher et al.](https://doi.org/10.1111/1365-2435.12034), [Dahlin et al.](https://doi.org/10.1073/pnas.1215513110), [Loveys et al.](https://doi.org/10.1046/j.1365-2486.2003.00611.x), [Messier et al.](https://doi.org/10.1111/j.1461-0248.2010.01476.x), [Michaletz et al.](https://doi.org/10.1139/x06-158), Sheremetev et al.), obtained via [TryDB](https://doi.org/10.1111/j.1365-2486.2011.02451.x). The datasets include DMC measurements of a total of 218 plant species. For each species, the geometric mean DMC value was calculated. \n",
    "\n",
    "$\\begin{equation*}Dry\\,Matter\\,Content\\,(DMC) = \\frac{Mdry}{Mwet} = \\frac{1}{\\alpha} \\end{equation*}$\n",
    "\n",
    "Here is a sample:"
   ]
  },
  {
   "cell_type": "code",
   "execution_count": 7,
   "metadata": {},
   "outputs": [
    {
     "data": {
      "text/html": [
       "<div>\n",
       "<style scoped>\n",
       "    .dataframe tbody tr th:only-of-type {\n",
       "        vertical-align: middle;\n",
       "    }\n",
       "\n",
       "    .dataframe tbody tr th {\n",
       "        vertical-align: top;\n",
       "    }\n",
       "\n",
       "    .dataframe thead th {\n",
       "        text-align: right;\n",
       "    }\n",
       "</style>\n",
       "<table border=\"1\" class=\"dataframe\">\n",
       "  <thead>\n",
       "    <tr style=\"text-align: right;\">\n",
       "      <th></th>\n",
       "      <th>Species</th>\n",
       "      <th>DMC</th>\n",
       "    </tr>\n",
       "  </thead>\n",
       "  <tbody>\n",
       "    <tr>\n",
       "      <th>0</th>\n",
       "      <td>Acacia anura</td>\n",
       "      <td>0.27</td>\n",
       "    </tr>\n",
       "    <tr>\n",
       "      <th>1</th>\n",
       "      <td>Acacia melenoxylon</td>\n",
       "      <td>0.30</td>\n",
       "    </tr>\n",
       "    <tr>\n",
       "      <th>2</th>\n",
       "      <td>Achillea millefolium</td>\n",
       "      <td>0.11</td>\n",
       "    </tr>\n",
       "    <tr>\n",
       "      <th>3</th>\n",
       "      <td>Achillea ptarmica</td>\n",
       "      <td>0.12</td>\n",
       "    </tr>\n",
       "    <tr>\n",
       "      <th>4</th>\n",
       "      <td>Adenostoma fasciculatum</td>\n",
       "      <td>0.52</td>\n",
       "    </tr>\n",
       "  </tbody>\n",
       "</table>\n",
       "</div>"
      ],
      "text/plain": [
       "                   Species   DMC\n",
       "0             Acacia anura  0.27\n",
       "1       Acacia melenoxylon  0.30\n",
       "2     Achillea millefolium  0.11\n",
       "3        Achillea ptarmica  0.12\n",
       "4  Adenostoma fasciculatum  0.52"
      ]
     },
     "execution_count": 7,
     "metadata": {},
     "output_type": "execute_result"
    }
   ],
   "source": [
    "leaves_DMC = pd.read_excel(\"leaves_DMC.xlsx\")\n",
    "leaves_DMC.head()"
   ]
  },
  {
   "cell_type": "markdown",
   "metadata": {},
   "source": [
    "Our best estimate of the leaves DMC is the geometric mean of all values. The wet to dry mass conversion factor is then derived according to the formula, as follows:"
   ]
  },
  {
   "cell_type": "code",
   "execution_count": 8,
   "metadata": {},
   "outputs": [
    {
     "name": "stdout",
     "output_type": "stream",
     "text": [
      "Our best estimate of the leaves dry to wet mass conversion factor is 3.0\n"
     ]
    }
   ],
   "source": [
    "leaves_d2w = (1/ gmean(leaves_DMC['DMC'])).round(1)\n",
    "print 'Our best estimate of the leaves dry to wet mass conversion factor is ' + str(leaves_d2w)"
   ]
  },
  {
   "cell_type": "markdown",
   "metadata": {},
   "source": [
    "### Integrated factor\n",
    "\n",
    "After deriving the factors of the three tree compartments, the next step is to calculate the integrated conversion factor to be used throughout this study. \n",
    "To derive it, we divide the global plants wet mass by the dry mass. <br> The global plants dry weight is calculated as the sum of the global dry mass of the three plant compartments: stem, roots and leaves, obtained from [Bar-On et al.](https://doi.org/10.1073/pnas.1711842115). The global plant wet mass is computed by first multiplying each plant compartment global dry mass by its corresponding conversion factor. <br> Later, those are summed together to obtain the overall global plants wet mass:\n"
   ]
  },
  {
   "cell_type": "code",
   "execution_count": 9,
   "metadata": {},
   "outputs": [
    {
     "name": "stdout",
     "output_type": "stream",
     "text": [
      "Our best estimate of the biomass dry to wet mass conversion factor is 2.0\n"
     ]
    }
   ],
   "source": [
    "#Global dry mass (Gt) of the three tree compartments, source: [Bar-On et al.] \n",
    "d_weights = {'stem': 600, 'roots': 300, 'leaves': 30}\n",
    "\n",
    "d2w = (stem_d2w * d_weights['stem'] + roots_d2w * d_weights['roots'] + leaves_d2w * d_weights['leaves'])/ sum(d_weights.values())\n",
    "\n",
    "print 'Our best estimate of the biomass dry to wet mass conversion factor is ' + str(d2w)"
   ]
  }
 ],
 "metadata": {
  "kernelspec": {
   "display_name": "Python 2",
   "language": "python",
   "name": "python2"
  },
  "language_info": {
   "codemirror_mode": {
    "name": "ipython",
    "version": 2
   },
   "file_extension": ".py",
   "mimetype": "text/x-python",
   "name": "python",
   "nbconvert_exporter": "python",
   "pygments_lexer": "ipython2",
   "version": "2.7.15"
  }
 },
 "nbformat": 4,
 "nbformat_minor": 2
}
