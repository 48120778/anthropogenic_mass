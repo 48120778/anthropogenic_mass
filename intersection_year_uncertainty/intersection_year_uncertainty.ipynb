{
 "cells": [
  {
   "cell_type": "code",
   "execution_count": 1,
   "metadata": {},
   "outputs": [],
   "source": [
    "# Load dependencies \n",
    "import numpy as np\n",
    "import pandas as pd\n",
    "import os\n",
    "import re\n",
    "import matplotlib.pyplot as plt\n",
    "from collections import defaultdict"
   ]
  },
  {
   "cell_type": "markdown",
   "metadata": {},
   "source": [
    "# Year of intersection uncertainty\n",
    "To evaluate the uncertainty in the year anthropogenic mass is expected to surpass biomass we conduct a Monte Carlo error estimation.\n",
    "The following function is used throughout the code to find the exact time of intersection between anthropogenic mass and biomass in a known range. "
   ]
  },
  {
   "cell_type": "code",
   "execution_count": 2,
   "metadata": {},
   "outputs": [],
   "source": [
    "def line_intersection(line1, line2):\n",
    "    \"\"\"\n",
    "    finds the intersection point of two straight lines\n",
    "    from: https://stackoverflow.com/questions/20677795/how-do-i-compute-the-intersection-point-of-two-lines-in-python\n",
    "    by: @paul-draper\n",
    "    :param line1: 2 point defining a line\n",
    "    :type line1: tuple\n",
    "    :param line2: 2 point defining a line\n",
    "    :type line2: tuple\n",
    "    :return: x & y coordinates of the intersection point of the two given lines\n",
    "    :rtype: tuple\n",
    "    \"\"\"\n",
    "    xdiff = (line1[0][0] - line1[1][0], line2[0][0] - line2[1][0])\n",
    "    ydiff = (line1[0][1] - line1[1][1], line2[0][1] - line2[1][1])\n",
    "\n",
    "    def det(a, b):\n",
    "        return a[0] * b[1] - a[1] * b[0]\n",
    "\n",
    "    div = det(xdiff, ydiff)\n",
    "    if div == 0:\n",
    "        raise Exception('lines do not intersect')\n",
    "\n",
    "    d = (det(*line1), det(*line2))\n",
    "    x = det(d, xdiff) / div\n",
    "    y = det(d, ydiff) / div\n",
    "    return x, y"
   ]
  },
  {
   "cell_type": "code",
   "execution_count": 3,
   "metadata": {},
   "outputs": [],
   "source": [
    "# Load tabular data\n",
    "file_path = os.path.abspath('')\n",
    "\n",
    "bm_est = pd.read_excel(file_path + \"/../biomass_calculation/bm_est.xlsx\", index_col =\"data source\")\n",
    "dgvm = pd.read_excel(file_path + \"/../biomass_calculation/DGVM_mean.xlsx\")\n",
    "anth_dry_2015 = (pd.read_excel(file_path + \"/../data/anthropogenic_mass_2015.xlsx\", index_col='Year')).iloc[:,:7]"
   ]
  },
  {
   "cell_type": "markdown",
   "metadata": {},
   "source": [
    "## Simulation core machinery\n",
    " \n",
    "The following functions are the heart of the simulation.\n",
    "The function get_BM() follows \"biomass_calculation.ipynb\", with the sole difference of randomly drawing the parameters, instead of using constant values."
   ]
  },
  {
   "cell_type": "markdown",
   "metadata": {},
   "source": [
    "## Run simulation\n",
    "\n",
    "The simulation runs *num_of_iterations* times.\n",
    "The simulation extrapolates the anthropogenic mass and biomass until the year 2080. This is done in order to sample the intersection year distribution in an unbiased manner (insufficient extrapolation will result in a left skewed distribution)."
   ]
  },
  {
   "cell_type": "code",
   "execution_count": 4,
   "metadata": {},
   "outputs": [],
   "source": [
    "def get_BM():\n",
    "    bm_tot= defaultdict(list)\n",
    "    approach1= defaultdict(list)\n",
    "    approach2 = defaultdict(list) \n",
    "    PLANTS_BM = np.random.normal(450, 45)\n",
    "    NON_PLANT_BM = np.random.lognormal(np.log(48.2), np.log(1.9)/1.96)\n",
    "    FOREST_FRAC = np.random.normal(0.75,0.03)\n",
    "    CFACTOR = np.random.normal(2.25,0.13)\n",
    "    z = np.random.normal(0,1)\n",
    "    d = []\n",
    "    for i in xrange(len(dgvm)):\n",
    "        d.append((z*dgvm.iloc[i,2]) + dgvm.iloc[i,1])\n",
    "    dgvm1 = pd.DataFrame({'year': dgvm.iloc[:,0], 'dmean': d}, columns=['year', 'dmean'])\n",
    "    # Plants biomass 1990-2017\n",
    "    for source in set(bm_est.index):\n",
    "        est_dic = dict(zip(np.array(bm_est.loc[source]['year']), np.array(bm_est.loc[source]['biomass [GtC]'])))\n",
    "        for year in est_dic.keys():\n",
    "            if year != 2010:\n",
    "                if (source == 'Liu et al.'):\n",
    "                    approach1[year].append(est_dic[year]/est_dic[2010] * PLANTS_BM)\n",
    "                if (source == 'DGVM'):\n",
    "                    approach2[year].append(dgvm1.iloc[year-1900,1]/est_dic[2010] * PLANTS_BM)\n",
    "                if (source == 'FRA2010') or (source == 'Pan et al.') or (source == 'FAOstat'):\n",
    "                    approach1[year].append(((est_dic[year]*(1/FOREST_FRAC))/(est_dic[2010]*(1/FOREST_FRAC))) * PLANTS_BM )\n",
    "    bm_plants = {2010: PLANTS_BM}\n",
    "    for year in ([1990,2000,2012,2017]):\n",
    "        bm_plants[year] = (np.mean(np.array([np.random.normal(np.mean(approach1[year]),np.std(approach1[year])) ,approach2[year][0]])))\n",
    "    # Plants biomass 1900-1990\n",
    "    for i in xrange(90):\n",
    "        bm_plants[1900+i]= (dgvm1.iloc[i,1]/dgvm1.iloc[90,1]* bm_plants[1990])          \n",
    "\n",
    "    # Overall biomass \n",
    "    for y in bm_plants.keys():\n",
    "        bm_tot[y].append((bm_plants[y]+ NON_PLANT_BM)* CFACTOR)\n",
    "    bm = np.empty(0)\n",
    "    years = np.array(sorted(bm_tot.keys()))\n",
    "    for y in sorted(years):\n",
    "        bm = np.append(bm,bm_tot[y])\n",
    "\n",
    "    # Calculate rate of change 2010-2017 \n",
    "    trend = np.polyfit(years[-3:],bm[-3:],1)[0]\n",
    "\n",
    "    # Apply the rate to future years \n",
    "    years_ext = np.linspace(2018,2080,63)\n",
    "    for i in xrange(len(years_ext)):\n",
    "        bm = np.append(bm,bm[-1]+trend)\n",
    "\n",
    "    years = np.concatenate([years,years_ext])\n",
    "\n",
    "    bm_f = np.empty(0)\n",
    "    for i in xrange (len(bm)-1):\n",
    "        bm_f = np.append(bm_f,np.linspace(bm[i],bm[i+1],int(years[i+1]-years[i]+1))[:-1])  \n",
    "    bm_f = np.append(bm_f, bm[-1])\n",
    "    return bm_f\n",
    "\n",
    "def get_AM_by_factor():\n",
    "    \"\"\"\n",
    "    Multiplies the deterministic anthropogenic mass timeline by a random factor, corresponding to the error\n",
    "    distribution of the anthropogenic mass and waste cumulative mass\n",
    "    :return: timeline anthropogenic mass and waste fractions\n",
    "    :rtype: pd.DataFrame\n",
    "    \"\"\"\n",
    "    in_use_factor = np.random.normal(1, 0.05/3, 1) \n",
    "    waste_factor = np.random.normal(1, 0.15/3, 1)\n",
    "    out_df = pd.concat([ANTHROPO_IN_USE * in_use_factor, anth_dry_raw['waste'] * waste_factor],\n",
    "                       axis=1,\n",
    "                       keys=['in-use', 'waste'])\n",
    "    return out_df\n",
    "\n",
    "\n",
    "def intersection_time(bm, am):\n",
    "    \"\"\"\n",
    "    Gets two timelines and finds time of intersection\n",
    "    :param bm: biomass timeline\n",
    "    :type: np.array or pd.Series\n",
    "    :param am: anthropogenic mass timeline\n",
    "    :type: np.array or pd.Series\n",
    "    :return: time of intersection between the two timelines\n",
    "    :rtype: tuple\n",
    "    \"\"\"\n",
    "    mass_dif = bm - am\n",
    "    try:\n",
    "        # Find where the difference between biomass and anthropogenic mass exceeds zero (i.e. there is more anthropogenic mass)\n",
    "        year = mass_dif.gt(0).idxmin()\n",
    "    except ValueError:\n",
    "        print('No max')\n",
    "        return\n",
    "    # Use the year found above to define straight lines - one for the biomass and one for the anthropogenic mass \n",
    "    bm_a, bm_b = (year - 1, bm[year - 1]), (year, bm[year])\n",
    "    am_a, am_b = (year - 1, am[year - 1]), (year, am[year])\n",
    "    # Call helper function to find the exact time the lines intersect\n",
    "    return line_intersection((bm_a, bm_b), (am_a, am_b))[0]\n",
    "\n",
    "\n",
    "def get_year_uncertainty(bm, num):\n",
    "    \"\"\"\n",
    "    Finds distribution of years of intersection between biomass and anthropogenic mass by Monte Carlo simulation\n",
    "    :param bm: multiple biomass timelines\n",
    "    :type: pd.DataFrame\n",
    "    :param num: the number of iterations the simulation should make\n",
    "    :type: int\n",
    "    :return: anthropogenic mass timlines of in-use, waste and total fractions, years of intersection\n",
    "    between anthropogenic mass and biomass as predicted by the simulation\n",
    "    :rtype: pd.Series, pd.Series, pd.Series, np.array, np.array\n",
    "    \"\"\"\n",
    "    am_in_use = pd.DataFrame()\n",
    "    am_waste = pd.DataFrame()\n",
    "    am_total = pd.DataFrame()\n",
    "    y_in_use = np.empty(0)\n",
    "    y_total = np.empty(0)\n",
    "    for j in xrange(num):\n",
    "        tmp = get_AM_by_factor()\n",
    "        am_in_use[j] = tmp['in-use']\n",
    "        am_waste[j] = tmp['waste']\n",
    "        am_total[j] = tmp['in-use'] + tmp['waste']\n",
    "        bm_rand = bm.iloc[j, :]\n",
    "        # For each random couple of timelines - of Biomass and Anthropogenic mass - find the time of intersection and append to array \n",
    "        y_in_use = np.append(y_in_use, intersection_time(bm_rand, am_in_use[j]))\n",
    "        y_total = np.append(y_total, intersection_time(bm_rand, am_total[j]))\n",
    "    return am_in_use, am_waste, am_total, y_in_use, y_total"
   ]
  },
  {
   "cell_type": "code",
   "execution_count": 5,
   "metadata": {},
   "outputs": [],
   "source": [
    "num_of_iterations = 10000\n",
    "BM_dry_MC = pd.DataFrame([get_BM() / 1000 for _ in range(num_of_iterations)], \n",
    "                         columns=np.linspace(1900, 2080, 181, dtype=np.int))\n",
    "\n",
    "BM_wet_MC = BM_dry_MC.apply(lambda row: row * np.random.normal(2.0, 0.3), axis=1)\n",
    "\n",
    "factors = (anth_dry_2015.iloc[-5:, :] / anth_dry_2015.shift(1).iloc[-5:, :]).mean()\n",
    "anth_dry_2080 = pd.DataFrame([anth_dry_2015.iloc[-1, :] * (factors ** i) for i in range(66)], index=range(2015, 2081))\n",
    "anth_dry_raw = pd.concat([anth_dry_2015, anth_dry_2080.iloc[1:, :]])\n",
    "\n",
    "# Initializing with 1900 values \n",
    "anth1900 = [0.002258563,0.016639681,0.011143095, 0 ,0.000838412,0.004274367, 0]\n",
    "anth_dry_raw = anth_dry_raw.shift(periods=1)\n",
    "anth_dry_raw.iloc[0,:] = anth1900\n",
    "\n",
    "ANTHROPO_IN_USE = anth_dry_raw.iloc[:, :-1].sum(axis=1)\n",
    "\n",
    "anth_in_use_dry, anth_waste_dry, anth_total_dry, year_in_use_dry, year_total_dry = get_year_uncertainty(BM_dry_MC, num_of_iterations)"
   ]
  },
  {
   "cell_type": "markdown",
   "metadata": {},
   "source": [
    "## Results\n",
    "\n",
    "### anthropogenic mass vs. dry biomass"
   ]
  },
  {
   "cell_type": "code",
   "execution_count": 6,
   "metadata": {},
   "outputs": [
    {
     "data": {
      "image/png": "[encoded data removed]",
      "text/plain": [
       "<Figure size 432x288 with 1 Axes>"
      ]
     },
     "metadata": {
      "needs_background": "light"
     },
     "output_type": "display_data"
    },
    {
     "name": "stdout",
     "output_type": "stream",
     "text": [
      "Year of anthropogenic mass intersection with dry biomass: mean = 2020 std = 6\n"
     ]
    }
   ],
   "source": [
    "# Year of intersection of anthropogenic mass\n",
    "hx2 = plt.hist(year_in_use_dry)\n",
    "plt.xlabel(\"intersection year\")\n",
    "plt.ylabel(\"no. of occurrences\")\n",
    "plt.show()\n",
    "print \"Year of anthropogenic mass intersection with dry biomass: mean = \" + str(int(np.floor(np.mean(year_in_use_dry)))) + \" std = \"+ str(int(np.round(np.std(year_in_use_dry))))"
   ]
  },
  {
   "cell_type": "code",
   "execution_count": 7,
   "metadata": {},
   "outputs": [
    {
     "data": {
      "image/png": "[encoded data removed]",
      "text/plain": [
       "<Figure size 432x288 with 1 Axes>"
      ]
     },
     "metadata": {
      "needs_background": "light"
     },
     "output_type": "display_data"
    },
    {
     "name": "stdout",
     "output_type": "stream",
     "text": [
      "Year of total anthropogenic mass, including anthropogenic mass waste, intersection with dry biomass: mean = 2013 std = 5\n"
     ]
    }
   ],
   "source": [
    "# Year of intersection of total anthropogenic mass, including anthropogenic mass waste\n",
    "hx1 = plt.hist(year_total_dry)\n",
    "plt.xlabel(\"intersection year\")\n",
    "plt.ylabel(\"no. of occurrences\")\n",
    "plt.show()\n",
    "print \"Year of total anthropogenic mass, including anthropogenic mass waste, intersection with dry biomass: mean = \" + str(int(np.floor(np.mean(year_total_dry)))) + \" std = \" + str(int(np.round(np.std(year_total_dry))))"
   ]
  },
  {
   "cell_type": "markdown",
   "metadata": {},
   "source": [
    "### anthropogenic mass vs. wet biomass"
   ]
  },
  {
   "cell_type": "code",
   "execution_count": 8,
   "metadata": {},
   "outputs": [],
   "source": [
    "anth_in_use_wet, anth_waste_wet, anth_total_wet, year_in_use_wet, year_total_wet = get_year_uncertainty(BM_wet_MC,num_of_iterations )\n"
   ]
  },
  {
   "cell_type": "code",
   "execution_count": 9,
   "metadata": {},
   "outputs": [
    {
     "data": {
      "image/png": "[encoded data removed]",
      "text/plain": [
       "<Figure size 432x288 with 1 Axes>"
      ]
     },
     "metadata": {
      "needs_background": "light"
     },
     "output_type": "display_data"
    },
    {
     "name": "stdout",
     "output_type": "stream",
     "text": [
      "Year of anthropogenic mass intersection with wet biomass: mean = 2037 std = 10\n"
     ]
    }
   ],
   "source": [
    "# Year of intersection of anthropogenic mass\n",
    "hx2 = plt.hist(year_in_use_wet)\n",
    "plt.xlabel(\"intersection year\")\n",
    "plt.ylabel(\"no. of occurrences\")\n",
    "plt.show()\n",
    "print \"Year of anthropogenic mass intersection with wet biomass: mean = \" +  str(int(np.floor(np.mean(year_in_use_wet)))) + \" std = \" + str(int(np.round(np.std(year_in_use_wet))))"
   ]
  },
  {
   "cell_type": "code",
   "execution_count": 10,
   "metadata": {},
   "outputs": [
    {
     "data": {
      "image/png": "[encoded data removed]",
      "text/plain": [
       "<Figure size 432x288 with 1 Axes>"
      ]
     },
     "metadata": {
      "needs_background": "light"
     },
     "output_type": "display_data"
    },
    {
     "name": "stdout",
     "output_type": "stream",
     "text": [
      "Year of total anthropogenic mass, including anthropogenic mass waste, intersection with wet biomass: mean = 2032 std = 9\n"
     ]
    }
   ],
   "source": [
    "# Year of intersection of total anthropogenic mass, including anthropogenic mass waste \n",
    "hx1 = plt.hist(year_total_wet)\n",
    "plt.xlabel(\"intersection year\")\n",
    "plt.ylabel(\"no. of occurrences\")\n",
    "plt.show()\n",
    "print \"Year of total anthropogenic mass, including anthropogenic mass waste, intersection with wet biomass: mean = \" + str(int(np.floor(np.mean(year_total_wet)))) + \" std = \" + str(int(np.round(np.std(year_total_wet))))"
   ]
  }
 ],
 "metadata": {
  "kernelspec": {
   "display_name": "Python 2",
   "language": "python",
   "name": "python2"
  },
  "language_info": {
   "codemirror_mode": {
    "name": "ipython",
    "version": 2
   },
   "file_extension": ".py",
   "mimetype": "text/x-python",
   "name": "python",
   "nbconvert_exporter": "python",
   "pygments_lexer": "ipython2",
   "version": "2.7.15"
  }
 },
 "nbformat": 4,
 "nbformat_minor": 2
}
