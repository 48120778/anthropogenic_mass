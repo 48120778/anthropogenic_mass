{
 "cells": [
  {
   "cell_type": "code",
   "execution_count": 1,
   "metadata": {},
   "outputs": [],
   "source": [
    "# Load dependencies \n",
    "import numpy as np\n",
    "import pandas as pd\n",
    "import os"
   ]
  },
  {
   "cell_type": "markdown",
   "metadata": {},
   "source": [
    "# Sensitivity analysis of the anthropogenic mass definition\n",
    "\n",
    "In this study, anthropogenic mass is defined as the mass embedded in inanimate solid objects made by humans, that were not yet demolished or taken out of service. This definition is supported by the scientific field of industrial ecology and used by bureaus of statistics. Other definitions can be proposed. Here we present their calculations."
   ]
  },
  {
   "cell_type": "code",
   "execution_count": 2,
   "metadata": {},
   "outputs": [],
   "source": [
    "# Upload our anthropogenic mass and biomass estimates \n",
    "anthropogenic_mass = pd.concat([pd.read_excel(\"../data/anthropogenic_mass_2015.xlsx\").iloc[:,:7],pd.read_excel(\"../data/anthropogenic_mass_2037.xlsx\").iloc[1:6,:7]]).reset_index(drop=True)\n",
    "anthropogenic_mass['anthropogenic_mass'] = anthropogenic_mass.iloc[:,1:].sum(axis=1)\n",
    "biomass = pd.read_excel(\"../data/biomass_dry.xlsx\")\n",
    "\n",
    "# Fill yearly values\n",
    "bm = np.empty(0)\n",
    "for i in xrange (5):\n",
    "    bm = np.append(bm,np.linspace(biomass.iloc[90+i,0],biomass.iloc[90+i+1,0],int(biomass.iloc[i+91,1] - biomass.iloc[i+90,1] +1))[:-1])\n",
    "biomass = pd.DataFrame({'Year': xrange(biomass.iloc[0,1], biomass.iloc[-1,1]+1), 'biomass(Tt)': list(biomass.iloc[:90,0]) +list(bm)+list(biomass.iloc[95:,0])}, columns = ['biomass(Tt)','Year'])"
   ]
  },
  {
   "cell_type": "markdown",
   "metadata": {},
   "source": [
    "## Include humans under anthropogenic mass instead of under biomass \n",
    "\n",
    "The mass of the human population since 1900 was obtained from [Krausmann et al., 2018](http://dx.doi.org/10.1016/j.gloenvcha.2018.07.003) and was converted to a dry-weight basis by multiplying by 0.3 (assuming water comprises 70% of the human body’s mass)."
   ]
  },
  {
   "cell_type": "code",
   "execution_count": 3,
   "metadata": {},
   "outputs": [
    {
     "data": {
      "text/html": [
       "<div>\n",
       "<style scoped>\n",
       "    .dataframe tbody tr th:only-of-type {\n",
       "        vertical-align: middle;\n",
       "    }\n",
       "\n",
       "    .dataframe tbody tr th {\n",
       "        vertical-align: top;\n",
       "    }\n",
       "\n",
       "    .dataframe thead th {\n",
       "        text-align: right;\n",
       "    }\n",
       "</style>\n",
       "<table border=\"1\" class=\"dataframe\">\n",
       "  <thead>\n",
       "    <tr style=\"text-align: right;\">\n",
       "      <th></th>\n",
       "      <th>Year</th>\n",
       "      <th>Humans</th>\n",
       "    </tr>\n",
       "  </thead>\n",
       "  <tbody>\n",
       "    <tr>\n",
       "      <th>0</th>\n",
       "      <td>1900</td>\n",
       "      <td>0.000021</td>\n",
       "    </tr>\n",
       "    <tr>\n",
       "      <th>1</th>\n",
       "      <td>1901</td>\n",
       "      <td>0.000022</td>\n",
       "    </tr>\n",
       "    <tr>\n",
       "      <th>2</th>\n",
       "      <td>1902</td>\n",
       "      <td>0.000022</td>\n",
       "    </tr>\n",
       "    <tr>\n",
       "      <th>3</th>\n",
       "      <td>1903</td>\n",
       "      <td>0.000022</td>\n",
       "    </tr>\n",
       "    <tr>\n",
       "      <th>4</th>\n",
       "      <td>1904</td>\n",
       "      <td>0.000022</td>\n",
       "    </tr>\n",
       "  </tbody>\n",
       "</table>\n",
       "</div>"
      ],
      "text/plain": [
       "   Year    Humans\n",
       "0  1900  0.000021\n",
       "1  1901  0.000022\n",
       "2  1902  0.000022\n",
       "3  1903  0.000022\n",
       "4  1904  0.000022"
      ]
     },
     "execution_count": 3,
     "metadata": {},
     "output_type": "execute_result"
    }
   ],
   "source": [
    "# Upload the mass of human population from Krausmann et al., units [Gigatonnes] \n",
    "human = pd.read_excel(\"human_livestock_Krausmann.xlsx\").iloc[:,[0,1]]\n",
    "# Convert to dry weight basis and units of Teratonnes\n",
    "human.iloc[:,1] = human.iloc[:,1]* 0.3 /1000 \n",
    "human.head()"
   ]
  },
  {
   "cell_type": "code",
   "execution_count": 4,
   "metadata": {},
   "outputs": [],
   "source": [
    "# Extrapolate till 2020\n",
    "factor = (human.iloc[-5:, 1] / human.shift(1).iloc[-5:, 1]).mean()\n",
    "human_ext = pd.DataFrame({'Year': xrange(2015, 2021), 'Humans':[human.iloc[-1, 1] * (factor ** i) for i in range(6)]}, columns = ['Year', 'Humans'])\n",
    "human = pd.concat([human, human_ext.iloc[1:, :]]).reset_index(drop=True)"
   ]
  },
  {
   "cell_type": "markdown",
   "metadata": {},
   "source": [
    "The mass of the human population was then subtracted from the biomass estimate and added to the anthropogenic mass estimate."
   ]
  },
  {
   "cell_type": "code",
   "execution_count": 5,
   "metadata": {},
   "outputs": [],
   "source": [
    "biomass_human = biomass[:121].iloc[:,0] - human.iloc[:,1]\n",
    "anthropogenic_mass_human = anthropogenic_mass[:121].iloc[:,7] + human.iloc[:,1]"
   ]
  },
  {
   "cell_type": "markdown",
   "metadata": {},
   "source": [
    "## Include livestock under anthropogenic mass instead of under biomass \n",
    "\n",
    "The mass of the livestock since 1900 was obtained from [Krausmann et al., 2018](http://dx.doi.org/10.1016/j.gloenvcha.2018.07.003) and was converted to a dry-weight basis by multiplying by 0.3 (assuming water comprises 70% of the mass of livestock)."
   ]
  },
  {
   "cell_type": "code",
   "execution_count": 6,
   "metadata": {},
   "outputs": [
    {
     "data": {
      "text/html": [
       "<div>\n",
       "<style scoped>\n",
       "    .dataframe tbody tr th:only-of-type {\n",
       "        vertical-align: middle;\n",
       "    }\n",
       "\n",
       "    .dataframe tbody tr th {\n",
       "        vertical-align: top;\n",
       "    }\n",
       "\n",
       "    .dataframe thead th {\n",
       "        text-align: right;\n",
       "    }\n",
       "</style>\n",
       "<table border=\"1\" class=\"dataframe\">\n",
       "  <thead>\n",
       "    <tr style=\"text-align: right;\">\n",
       "      <th></th>\n",
       "      <th>Year</th>\n",
       "      <th>Livestock</th>\n",
       "    </tr>\n",
       "  </thead>\n",
       "  <tbody>\n",
       "    <tr>\n",
       "      <th>0</th>\n",
       "      <td>1900</td>\n",
       "      <td>0.000055</td>\n",
       "    </tr>\n",
       "    <tr>\n",
       "      <th>1</th>\n",
       "      <td>1901</td>\n",
       "      <td>0.000056</td>\n",
       "    </tr>\n",
       "    <tr>\n",
       "      <th>2</th>\n",
       "      <td>1902</td>\n",
       "      <td>0.000056</td>\n",
       "    </tr>\n",
       "    <tr>\n",
       "      <th>3</th>\n",
       "      <td>1903</td>\n",
       "      <td>0.000057</td>\n",
       "    </tr>\n",
       "    <tr>\n",
       "      <th>4</th>\n",
       "      <td>1904</td>\n",
       "      <td>0.000057</td>\n",
       "    </tr>\n",
       "  </tbody>\n",
       "</table>\n",
       "</div>"
      ],
      "text/plain": [
       "   Year  Livestock\n",
       "0  1900   0.000055\n",
       "1  1901   0.000056\n",
       "2  1902   0.000056\n",
       "3  1903   0.000057\n",
       "4  1904   0.000057"
      ]
     },
     "execution_count": 6,
     "metadata": {},
     "output_type": "execute_result"
    }
   ],
   "source": [
    "# Upload the mass of livestock from Krausmann et al., units [Gigatonnes] \n",
    "livestock = pd.read_excel(\"human_livestock_Krausmann.xlsx\").iloc[:,[0,2]]\n",
    "\n",
    "# Convert to dry weight basis and units of Teratonnes\n",
    "livestock.iloc[:,1] = livestock.iloc[:,1]* 0.3 /1000\n",
    "livestock.head()"
   ]
  },
  {
   "cell_type": "code",
   "execution_count": 7,
   "metadata": {},
   "outputs": [],
   "source": [
    "# Extrapolate till 2020\n",
    "factor = (livestock.iloc[-5:, 1] / livestock.shift(1).iloc[-5:, 1]).mean()\n",
    "livestock_ext = pd.DataFrame({'Year': xrange(2015, 2021), 'Livestock':[livestock.iloc[-1, 1] * (factor ** i) for i in range(6)]}, columns = ['Year', 'Livestock'])\n",
    "livestock = pd.concat([livestock, livestock_ext.iloc[1:, :]]).reset_index(drop=True)"
   ]
  },
  {
   "cell_type": "markdown",
   "metadata": {},
   "source": [
    "The livestock mass was subtracted from the biomass estimate and added to the anthropogenic mass estimate."
   ]
  },
  {
   "cell_type": "code",
   "execution_count": 8,
   "metadata": {},
   "outputs": [],
   "source": [
    "biomass_livestock = biomass[:121].iloc[:,0] - livestock.iloc[:,1]\n",
    "anthropogenic_mass_livestock = anthropogenic_mass[:121].iloc[:,7] + livestock.iloc[:,1]"
   ]
  },
  {
   "cell_type": "markdown",
   "metadata": {},
   "source": [
    "## Exclude industrial roundwood mass from the anthropogenic mass \n",
    "\n",
    "The industrial roundwood mass since 1900 was obtained from [Wiedenhofer et al., 2019](http://dx.doi.org/10.1016/j.ecolecon.2018.09.010)."
   ]
  },
  {
   "cell_type": "code",
   "execution_count": 9,
   "metadata": {},
   "outputs": [
    {
     "data": {
      "text/html": [
       "<div>\n",
       "<style scoped>\n",
       "    .dataframe tbody tr th:only-of-type {\n",
       "        vertical-align: middle;\n",
       "    }\n",
       "\n",
       "    .dataframe tbody tr th {\n",
       "        vertical-align: top;\n",
       "    }\n",
       "\n",
       "    .dataframe thead th {\n",
       "        text-align: right;\n",
       "    }\n",
       "</style>\n",
       "<table border=\"1\" class=\"dataframe\">\n",
       "  <thead>\n",
       "    <tr style=\"text-align: right;\">\n",
       "      <th></th>\n",
       "      <th>Year</th>\n",
       "      <th>Solidwood</th>\n",
       "      <th>Paper</th>\n",
       "    </tr>\n",
       "  </thead>\n",
       "  <tbody>\n",
       "    <tr>\n",
       "      <th>0</th>\n",
       "      <td>1900</td>\n",
       "      <td>4.021884</td>\n",
       "      <td>0.096790</td>\n",
       "    </tr>\n",
       "    <tr>\n",
       "      <th>1</th>\n",
       "      <td>1901</td>\n",
       "      <td>4.032629</td>\n",
       "      <td>0.095194</td>\n",
       "    </tr>\n",
       "    <tr>\n",
       "      <th>2</th>\n",
       "      <td>1902</td>\n",
       "      <td>4.044273</td>\n",
       "      <td>0.094998</td>\n",
       "    </tr>\n",
       "    <tr>\n",
       "      <th>3</th>\n",
       "      <td>1903</td>\n",
       "      <td>4.056767</td>\n",
       "      <td>0.095442</td>\n",
       "    </tr>\n",
       "    <tr>\n",
       "      <th>4</th>\n",
       "      <td>1904</td>\n",
       "      <td>4.070105</td>\n",
       "      <td>0.096240</td>\n",
       "    </tr>\n",
       "  </tbody>\n",
       "</table>\n",
       "</div>"
      ],
      "text/plain": [
       "   Year  Solidwood     Paper\n",
       "0  1900   4.021884  0.096790\n",
       "1  1901   4.032629  0.095194\n",
       "2  1902   4.044273  0.094998\n",
       "3  1903   4.056767  0.095442\n",
       "4  1904   4.070105  0.096240"
      ]
     },
     "execution_count": 9,
     "metadata": {},
     "output_type": "execute_result"
    }
   ],
   "source": [
    "# Upload the mass of industrial roundwood from Wiedenhofer et al., units [Gigatonnes] \n",
    "wood = pd.read_excel(\"roundwood_Wiedenhofer.xlsx\") \n",
    "wood.head()"
   ]
  },
  {
   "cell_type": "code",
   "execution_count": 10,
   "metadata": {},
   "outputs": [],
   "source": [
    "# Sum the solidwood and paper estimates and convert to units of Teratonnes\n",
    "wood = pd.DataFrame({'Year': wood.iloc[:,0], 'Roundwood': (wood[\"Solidwood\"] + wood[\"Paper\"])/1000}, columns = ['Year', 'Roundwood'])\n",
    "\n",
    "# Extrapolate till 2020\n",
    "factor = (wood.iloc[-5:, 1] / wood.shift(1).iloc[-5:, 1]).mean()\n",
    "wood_ext = pd.DataFrame({'Year': xrange(2014, 2021), 'Roundwood':[wood.iloc[-1, 1] * (factor ** i) for i in range(7)]}, columns = ['Year', 'Roundwood'])\n",
    "wood = pd.concat([wood, wood_ext.iloc[1:, :]]).reset_index(drop=True)"
   ]
  },
  {
   "cell_type": "markdown",
   "metadata": {},
   "source": [
    "We then subtract the industrial roundwood from the anthropogenic mass estimate."
   ]
  },
  {
   "cell_type": "code",
   "execution_count": 11,
   "metadata": {},
   "outputs": [],
   "source": [
    "anthropogenic_mass_wood = anthropogenic_mass[:121].iloc[:,7] - wood.iloc[:,1]"
   ]
  },
  {
   "cell_type": "markdown",
   "metadata": {},
   "source": [
    "## Include mass of crops and agroforestry under anthropogenic mass instead of under biomass\n",
    "\n",
    "To calculate the mass of crops and agroforestry (i.e., trees integrated in agricultural settings/landscapes), we mostly relied on the work by [Zomer et al.](http://dx.doi.org/10.1038/srep29987). We first estimated the area of the agricultural land, and then multiplied it by the corresponding biomass density\n",
    "\n",
    "To derive the agriculture area since 1900, we use the 2000 area estimate by [Zomer et al., 2016](http://dx.doi.org/10.1038/srep29987) and as an approximation, assume it behaves similarly to the cropland area.\n",
    "The cropland area estimates were obtained from [Goldewijk et al., 2017](http://dx.doi.org/10.5194/essd-9-927-2017) (Table S3), HYDE 3.2."
   ]
  },
  {
   "cell_type": "code",
   "execution_count": 12,
   "metadata": {},
   "outputs": [
    {
     "data": {
      "text/html": [
       "<div>\n",
       "<style scoped>\n",
       "    .dataframe tbody tr th:only-of-type {\n",
       "        vertical-align: middle;\n",
       "    }\n",
       "\n",
       "    .dataframe tbody tr th {\n",
       "        vertical-align: top;\n",
       "    }\n",
       "\n",
       "    .dataframe thead th {\n",
       "        text-align: right;\n",
       "    }\n",
       "</style>\n",
       "<table border=\"1\" class=\"dataframe\">\n",
       "  <thead>\n",
       "    <tr style=\"text-align: right;\">\n",
       "      <th></th>\n",
       "      <th>year</th>\n",
       "      <th>cropland</th>\n",
       "    </tr>\n",
       "  </thead>\n",
       "  <tbody>\n",
       "    <tr>\n",
       "      <th>0</th>\n",
       "      <td>1900</td>\n",
       "      <td>8.403312</td>\n",
       "    </tr>\n",
       "    <tr>\n",
       "      <th>1</th>\n",
       "      <td>1910</td>\n",
       "      <td>9.304075</td>\n",
       "    </tr>\n",
       "    <tr>\n",
       "      <th>2</th>\n",
       "      <td>1920</td>\n",
       "      <td>9.798934</td>\n",
       "    </tr>\n",
       "    <tr>\n",
       "      <th>3</th>\n",
       "      <td>1930</td>\n",
       "      <td>10.630422</td>\n",
       "    </tr>\n",
       "    <tr>\n",
       "      <th>4</th>\n",
       "      <td>1940</td>\n",
       "      <td>11.497290</td>\n",
       "    </tr>\n",
       "  </tbody>\n",
       "</table>\n",
       "</div>"
      ],
      "text/plain": [
       "   year   cropland\n",
       "0  1900   8.403312\n",
       "1  1910   9.304075\n",
       "2  1920   9.798934\n",
       "3  1930  10.630422\n",
       "4  1940  11.497290"
      ]
     },
     "execution_count": 12,
     "metadata": {},
     "output_type": "execute_result"
    }
   ],
   "source": [
    "# Zomer et al. total agricultural area in 2000, Units [km^2] \n",
    "agr_area2000= 22168929\n",
    "\n",
    "# convert to units of Mkm^2 \n",
    "agr_area2000= agr_area2000/1e6\n",
    "\n",
    "# Upload the cropland area from HYDE3.2, units [Mkm^2] \n",
    "crop_area = pd.read_excel(\"cropland_HYDE32.xlsx\")\n",
    "crop_area.head()"
   ]
  },
  {
   "cell_type": "code",
   "execution_count": 13,
   "metadata": {},
   "outputs": [],
   "source": [
    "# Derive the agricultural area since 1900\n",
    "agr_area = pd.DataFrame({'Year': crop_area.iloc[:,0], 'agr_area': crop_area.iloc[:,1]/crop_area.iloc[10,1] * agr_area2000}, columns = ['Year', 'agr_area'])\n",
    "\n",
    "# Convert to units of ha\n",
    "agr_area.iloc[:,1] = agr_area.iloc[:,1]* 1e8 "
   ]
  },
  {
   "cell_type": "markdown",
   "metadata": {},
   "source": [
    "Next, we derive the trend in the mass density between 2000-2010, using the two corresponding estimates by [Zomer et al.](http://dx.doi.org/10.1038/srep29987):"
   ]
  },
  {
   "cell_type": "code",
   "execution_count": 14,
   "metadata": {},
   "outputs": [],
   "source": [
    "# Upload the mass densities from Zomer et al., units [tC/ha] \n",
    "agr_den = pd.read_excel(\"agr_density_Zomer.xlsx\")\n",
    "\n",
    "# Calculate the linear density trend \n",
    "den_trend = np.polyfit(agr_den.iloc[:,0],agr_den.iloc[:,1], 1)[0]"
   ]
  },
  {
   "cell_type": "markdown",
   "metadata": {},
   "source": [
    "We now multiply the agricultural area by the corresponding density, assuming the density trend remains constant, to obtain the mass of crops and agroforestry."
   ]
  },
  {
   "cell_type": "code",
   "execution_count": 15,
   "metadata": {},
   "outputs": [],
   "source": [
    "# Estimate the mass density since 1900\n",
    "agr_densities = pd.DataFrame({'Year': crop_area.iloc[:,0],'Density': [agr_den.iloc[0,1] - (den_trend * 10* (i+1)) for i in range(10)][::-1] + [agr_den.iloc[0,1] + (den_trend * i) for i in range(21)]},columns = ['Year', 'Density']) \n",
    "\n",
    "# Calculate the mass on agriculture land since 1900\n",
    "agr_mass = pd.DataFrame({'Year': crop_area.iloc[:,0], 'agr_mass': (agr_area.iloc[:,1])* agr_densities.iloc[:,1]}, columns = ['Year', 'agr_mass'])\n",
    "\n",
    "CFACTOR = 2.25\n",
    "\n",
    "# Convert to units of Teratonnes of dry weight basis\n",
    "agr_mass.iloc[:,1] = agr_mass.iloc[:,1]* CFACTOR/1e12"
   ]
  },
  {
   "cell_type": "markdown",
   "metadata": {},
   "source": [
    "The mass of crops and agroforestry was subtracted from the biomass estimate and added to the anthropogenic mass estimate."
   ]
  },
  {
   "cell_type": "code",
   "execution_count": 16,
   "metadata": {},
   "outputs": [],
   "source": [
    "bm_df = np.empty(0)\n",
    "for i in xrange (10):\n",
    "    bm_df = np.append(bm_df,np.linspace(agr_mass.iloc[i,1],agr_mass.iloc[i+1,1],int(agr_mass.iloc[i+1,0] - agr_mass.iloc[i,0] +1))[:-1])\n",
    "biomass_agr = biomass[:121].iloc[:,0] - (np.concatenate([bm_df,agr_mass.iloc[10:,1]]))\n",
    "anthropogenic_mass_agr = anthropogenic_mass.iloc[:121,7] + (np.concatenate([bm_df,agr_mass.iloc[10:,1]]))"
   ]
  },
  {
   "cell_type": "markdown",
   "metadata": {},
   "source": [
    "## Add atmospheric anthropogenic CO<sub>2</sub> stocks to the anthropogenic mass  \n",
    "To estimate the stock of anthropogenic CO<sub>2</sub> mass over the studied period, we subtracted the pre-industrial CO<sub>2</sub> mass from the annual mean CO<sub>2</sub> stocks since 1900. \n",
    "\n",
    "Annual atmospheric CO<sub>2</sub> concentrations from 1959-2019 were obtained from [NOAA/ESRL](https://www.esrl.noaa.gov/gmd/ccgg/trends/) (Dr. Pieter Tans; Mauna Loa Observatory, Hawaii) and the [Scripps Institution of Oceanography](https://scrippsco2.ucsd.edu) (Dr. Ralph Keeling). "
   ]
  },
  {
   "cell_type": "code",
   "execution_count": 17,
   "metadata": {},
   "outputs": [
    {
     "data": {
      "text/html": [
       "<div>\n",
       "<style scoped>\n",
       "    .dataframe tbody tr th:only-of-type {\n",
       "        vertical-align: middle;\n",
       "    }\n",
       "\n",
       "    .dataframe tbody tr th {\n",
       "        vertical-align: top;\n",
       "    }\n",
       "\n",
       "    .dataframe thead th {\n",
       "        text-align: right;\n",
       "    }\n",
       "</style>\n",
       "<table border=\"1\" class=\"dataframe\">\n",
       "  <thead>\n",
       "    <tr style=\"text-align: right;\">\n",
       "      <th></th>\n",
       "      <th>year</th>\n",
       "      <th>CO2 mean (ppm)</th>\n",
       "    </tr>\n",
       "  </thead>\n",
       "  <tbody>\n",
       "    <tr>\n",
       "      <th>0</th>\n",
       "      <td>1959</td>\n",
       "      <td>315.97</td>\n",
       "    </tr>\n",
       "    <tr>\n",
       "      <th>1</th>\n",
       "      <td>1960</td>\n",
       "      <td>316.91</td>\n",
       "    </tr>\n",
       "    <tr>\n",
       "      <th>2</th>\n",
       "      <td>1961</td>\n",
       "      <td>317.64</td>\n",
       "    </tr>\n",
       "    <tr>\n",
       "      <th>3</th>\n",
       "      <td>1962</td>\n",
       "      <td>318.45</td>\n",
       "    </tr>\n",
       "    <tr>\n",
       "      <th>4</th>\n",
       "      <td>1963</td>\n",
       "      <td>318.99</td>\n",
       "    </tr>\n",
       "  </tbody>\n",
       "</table>\n",
       "</div>"
      ],
      "text/plain": [
       "   year  CO2 mean (ppm)\n",
       "0  1959          315.97\n",
       "1  1960          316.91\n",
       "2  1961          317.64\n",
       "3  1962          318.45\n",
       "4  1963          318.99"
      ]
     },
     "execution_count": 17,
     "metadata": {},
     "output_type": "execute_result"
    }
   ],
   "source": [
    "# Upload CO2 concentrations since 1959, units [ppm]\n",
    "CO2 = pd.read_excel('CO2_NOAA_SOI.xlsx')\n",
    "CO2.head()"
   ]
  },
  {
   "cell_type": "markdown",
   "metadata": {},
   "source": [
    "Prior estimates, based on ice cores, were obtained from [MacFarling Meure et al., 2006](https://doi.org/10.1029/2006GL026152); multiple records available for the same year were averaged."
   ]
  },
  {
   "cell_type": "code",
   "execution_count": 18,
   "metadata": {},
   "outputs": [
    {
     "data": {
      "text/html": [
       "<div>\n",
       "<style scoped>\n",
       "    .dataframe tbody tr th:only-of-type {\n",
       "        vertical-align: middle;\n",
       "    }\n",
       "\n",
       "    .dataframe tbody tr th {\n",
       "        vertical-align: top;\n",
       "    }\n",
       "\n",
       "    .dataframe thead th {\n",
       "        text-align: right;\n",
       "    }\n",
       "</style>\n",
       "<table border=\"1\" class=\"dataframe\">\n",
       "  <thead>\n",
       "    <tr style=\"text-align: right;\">\n",
       "      <th></th>\n",
       "      <th>CO2 gas age years AD</th>\n",
       "      <th>CO2 (ppm)</th>\n",
       "    </tr>\n",
       "  </thead>\n",
       "  <tbody>\n",
       "    <tr>\n",
       "      <th>0</th>\n",
       "      <td>1899.0</td>\n",
       "      <td>296.10</td>\n",
       "    </tr>\n",
       "    <tr>\n",
       "      <th>1</th>\n",
       "      <td>1902.0</td>\n",
       "      <td>295.35</td>\n",
       "    </tr>\n",
       "    <tr>\n",
       "      <th>2</th>\n",
       "      <td>1904.0</td>\n",
       "      <td>295.10</td>\n",
       "    </tr>\n",
       "    <tr>\n",
       "      <th>3</th>\n",
       "      <td>1909.0</td>\n",
       "      <td>300.40</td>\n",
       "    </tr>\n",
       "    <tr>\n",
       "      <th>4</th>\n",
       "      <td>1912.0</td>\n",
       "      <td>298.40</td>\n",
       "    </tr>\n",
       "  </tbody>\n",
       "</table>\n",
       "</div>"
      ],
      "text/plain": [
       "   CO2 gas age years AD  CO2 (ppm)       \n",
       "0                1899.0            296.10\n",
       "1                1902.0            295.35\n",
       "2                1904.0            295.10\n",
       "3                1909.0            300.40\n",
       "4                1912.0            298.40"
      ]
     },
     "execution_count": 18,
     "metadata": {},
     "output_type": "execute_result"
    }
   ],
   "source": [
    "# Upload CO2 concentrations since 1899, units [ppm]\n",
    "CO2_p = pd.read_excel('CO2_MacFarling_Meure.xlsx')\n",
    "CO2_p.iloc[:,1] = np.floor(CO2_p.iloc[:,1])\n",
    "CO2_p = CO2_p.groupby(['CO2 gas age years AD']).mean().reset_index()\n",
    "CO2_p.head()"
   ]
  },
  {
   "cell_type": "markdown",
   "metadata": {},
   "source": [
    "We then convert the concentration estimates to mass stocks of Gigatonnes CO<sub>2</sub>. This is done by first using a conversion factor from ppm CO<sub>2</sub> to Gigatonnes C, obtained from [Friedlingstein et al., 2019](http://doi.org/10.5194/essd-11-1783-2019). Later we convert to Gigatonnes CO<sub>2</sub> by multiplying by the ratio of the molecular weights:"
   ]
  },
  {
   "cell_type": "code",
   "execution_count": 19,
   "metadata": {},
   "outputs": [],
   "source": [
    "# Combine the two time periods\n",
    "CO2 = pd.DataFrame({'Year': list(CO2_p.iloc[:,0]) + list(CO2.iloc[:,0]), 'CO2': list(CO2_p.iloc[:,1])+ list(CO2.iloc[:,1])}, columns = ['Year', 'CO2'])\n",
    "\n",
    "# Convert to Gigatonnes CO2\n",
    "conv_factor1 = 2.124\n",
    "conv_factor2 = 44.01/12.011\n",
    "CO2.iloc[:,1] = CO2.iloc[:,1]* conv_factor1* conv_factor2"
   ]
  },
  {
   "cell_type": "markdown",
   "metadata": {},
   "source": [
    "We now subtract the CO<sub>2</sub> pre-industrial stocks, which derived based on the [IPCC](https://archive.ipcc.ch/ipccreports/tar/wg1/016.htm) concentration estimate of about 280 ppm."
   ]
  },
  {
   "cell_type": "code",
   "execution_count": 20,
   "metadata": {},
   "outputs": [],
   "source": [
    "# Pre-industrial CO2 concentration according to the IPCC, units [ppm]\n",
    "Pre_ind = 280\n",
    "\n",
    "# Convert to Gigatonnes CO2 \n",
    "Pre_ind = Pre_ind* conv_factor1* conv_factor2\n",
    "\n",
    "# Reduce from the CO2 stocks since 1900\n",
    "CO2.iloc[:,1] = CO2.iloc[:,1] - Pre_ind"
   ]
  },
  {
   "cell_type": "markdown",
   "metadata": {},
   "source": [
    "The atmospheric anthropogenic CO<sub>2</sub> mass was then added to the anthropogenic mass estimate."
   ]
  },
  {
   "cell_type": "code",
   "execution_count": 21,
   "metadata": {},
   "outputs": [],
   "source": [
    "am_CO2 = np.empty(0)\n",
    "for i in xrange (30):\n",
    "    am_CO2 = np.append(am_CO2,np.linspace(CO2.iloc[i,1],CO2.iloc[i+1,1],int(CO2.iloc[i+1,0] - CO2.iloc[i,0] +1))[:-1])\n",
    "# Add to the anthropogenic mass estimate and convert to Teratonnes \n",
    "anthropogenic_mass_CO2 = anthropogenic_mass[:120].iloc[:,7] + (np.concatenate([am_CO2[1:],CO2.iloc[30:,1]]))/1000"
   ]
  },
  {
   "cell_type": "markdown",
   "metadata": {},
   "source": [
    "## Add civil engineering earthworks, dredging and waste/overburden from metal and mineral production to the anthropogenic mass \n",
    "\n",
    "The anthropogenic mass definition is composed only of the current in-use human-made mass. In addition to this mass, humanity moves and extracts material not intended for usage, for example, waste or overburden from mineral extraction, civil engineering excavations and dredging.\n",
    "\n",
    "Our estimation for the yearly addition resulting of these actions is mostly based on a recent study by [Cooper et al. 2018](http://dx.doi.org/10.1177/2053019618800234), with updates to complement our anthropogenic mass estimation and avoid double counting. We include four groups: dredging, civil engineering earthworks, waste/ overburden resulted from mineral/metal or coal production."
   ]
  },
  {
   "cell_type": "markdown",
   "metadata": {},
   "source": [
    "### dredging \n",
    "The mass associated with dredging, since 1925, was obtained from [Cooper et al.](http://dx.doi.org/10.1177/2053019618800234), SI table1."
   ]
  },
  {
   "cell_type": "code",
   "execution_count": 22,
   "metadata": {},
   "outputs": [],
   "source": [
    "# Upload dredging data from Cooper et al., units [Mt/y]\n",
    "dredging = pd.read_excel(\"excavations_Cooper.xlsx\").iloc[:,[0,1]]\n",
    "\n",
    "# Convert to units of Teratonnes/year\n",
    "dredging['dredging'] = dredging.iloc[:,1]/1e6"
   ]
  },
  {
   "cell_type": "markdown",
   "metadata": {},
   "source": [
    "We then extrapolate the estimate from 1925 till 1900, based on the first five years, assuming exponential growth."
   ]
  },
  {
   "cell_type": "code",
   "execution_count": 23,
   "metadata": {},
   "outputs": [],
   "source": [
    "# Extrapolate the estimate from 1925 till 1900, based on the first five years, assuming exponential growth\n",
    "factor = (dredging.shift(-1).iloc[:5, 1] / dredging.iloc[:5, 1]).mean()\n",
    "dredging = pd.DataFrame({'Year': xrange(1900, 2016),'dredging': [dredging.iloc[0, 1] / (factor ** i) for i in range(26)][::-1] + list(dredging.iloc[1:, 1])}, columns = ['Year', 'dredging'])"
   ]
  },
  {
   "cell_type": "markdown",
   "metadata": {},
   "source": [
    "### waste/ overburden from coal production \n",
    "The waste/ overburden from coal production were adopted from [Cooper et al.](http://dx.doi.org/10.1177/2053019618800234), SI table1."
   ]
  },
  {
   "cell_type": "code",
   "execution_count": 24,
   "metadata": {},
   "outputs": [],
   "source": [
    "# Upload waste/ overburden from coal production data from Cooper et al. SI table1, units [Mt/y]\n",
    "coal_over = pd.read_excel(\"excavations_Cooper.xlsx\").iloc[:,[0,2]]\n",
    "\n",
    "# Convert to units of Teratonnes/year\n",
    "coal_over['overburden/ waste\\nfrom coal production'] = coal_over.iloc[:,1]/1e6"
   ]
  },
  {
   "cell_type": "code",
   "execution_count": 25,
   "metadata": {},
   "outputs": [],
   "source": [
    "# Extrapolate the estimate from 1925 till 1900, based on the first five years, assuming exponential growth\n",
    "factor = (coal_over.shift(-1).iloc[:5, 1] / coal_over.iloc[:5, 1]).mean()\n",
    "coal_over = pd.DataFrame({'Year': xrange(1900, 2016),'overburden/ waste\\nfrom coal production': [coal_over.iloc[0, 1] / (factor ** i) for i in range(26)][::-1] + list(coal_over.iloc[1:, 1])}, columns = ['Year', 'overburden/ waste\\nfrom coal production'])"
   ]
  },
  {
   "cell_type": "markdown",
   "metadata": {},
   "source": [
    "### civil engineering earthworks\n",
    "\n",
    "The mass of civil engineering earthworks was derived by multiplying the mass of used cement and aggregates by a factor of 2, following the approach presented in [Cooper et al.](http://dx.doi.org/10.1177/2053019618800234). \n",
    "\n",
    "To estimate the mass of cement and aggregates used each year, we first calculate the net addition to stocks for the aggregates, concrete and asphalt categories. Asphalt values were multiplied by 0.95 to represent the fraction of aggregates."
   ]
  },
  {
   "cell_type": "code",
   "execution_count": 26,
   "metadata": {},
   "outputs": [],
   "source": [
    "# Calculating the yearly net additions to stocks for the aggregates and concrete and asphalt categories \n",
    "nas = (anthropogenic_mass.iloc[:,[1,2]] - anthropogenic_mass.shift(1).iloc[:,[1,2]])\n",
    "asphalt = 0.95*(anthropogenic_mass.iloc[:,[4]] - anthropogenic_mass.shift(1).iloc[:,[4]])\n",
    "\n",
    "# Summing all additions\n",
    "nas = (nas.sum(axis=1) + np.array(list(asphalt.iloc[:,0]))).fillna(0)"
   ]
  },
  {
   "cell_type": "markdown",
   "metadata": {},
   "source": [
    "To approximate the mass of aggregates and cement used each year, we add to the yearly net additions to stocks the yearly waste of these categories.\n",
    "The waste here includes the end-of-life, construction and re-manufacturing wastes, in addition recycling is considered in the calculation. Thus the approximation of the used cement and aggregates might be slightly high."
   ]
  },
  {
   "cell_type": "code",
   "execution_count": 27,
   "metadata": {},
   "outputs": [],
   "source": [
    "# Upload the annual waste of the aggregates, concrete and asphalt categories, units [Gigatonnes/t] \n",
    "waste = pd.read_excel(\"waste_Wiedenhofer.xlsx\")\n",
    "\n",
    "# Sum the waste flows, converted to Teratonnes/year\n",
    "waste = waste.iloc[:,1:4].sum(axis=1)/1000 + np.array(list(waste.iloc[:,4]*0.95))/1000"
   ]
  },
  {
   "cell_type": "markdown",
   "metadata": {},
   "source": [
    "We then multiplied the outcome by a factor of 2, to obtain the annual mass of earthwork. "
   ]
  },
  {
   "cell_type": "code",
   "execution_count": 28,
   "metadata": {},
   "outputs": [],
   "source": [
    "earthwork = 2 * (nas[:100] + waste[:100])"
   ]
  },
  {
   "cell_type": "markdown",
   "metadata": {},
   "source": [
    "### waste/overburden resulted from mineral/metal production\n",
    "To estimate the amount of waste/overburden resulted from mineral/metal production, we used [Cooper et al.](http://dx.doi.org/10.1177/2053019618800234) values, which combined the mineral/metal production and the associated waste/overburden. \n",
    "\n",
    "To avoid double counting, we interpolated their mineral/metal production for all years (using the provided estimates for selected years), based on exponential fit."
   ]
  },
  {
   "cell_type": "code",
   "execution_count": 29,
   "metadata": {},
   "outputs": [
    {
     "data": {
      "text/html": [
       "<div>\n",
       "<style scoped>\n",
       "    .dataframe tbody tr th:only-of-type {\n",
       "        vertical-align: middle;\n",
       "    }\n",
       "\n",
       "    .dataframe tbody tr th {\n",
       "        vertical-align: top;\n",
       "    }\n",
       "\n",
       "    .dataframe thead th {\n",
       "        text-align: right;\n",
       "    }\n",
       "</style>\n",
       "<table border=\"1\" class=\"dataframe\">\n",
       "  <thead>\n",
       "    <tr style=\"text-align: right;\">\n",
       "      <th></th>\n",
       "      <th>Year</th>\n",
       "      <th>mineral and metal production incl. overburden/ waste</th>\n",
       "    </tr>\n",
       "  </thead>\n",
       "  <tbody>\n",
       "    <tr>\n",
       "      <th>0</th>\n",
       "      <td>1925</td>\n",
       "      <td>571</td>\n",
       "    </tr>\n",
       "    <tr>\n",
       "      <th>1</th>\n",
       "      <td>1926</td>\n",
       "      <td>585</td>\n",
       "    </tr>\n",
       "    <tr>\n",
       "      <th>2</th>\n",
       "      <td>1927</td>\n",
       "      <td>663</td>\n",
       "    </tr>\n",
       "    <tr>\n",
       "      <th>3</th>\n",
       "      <td>1928</td>\n",
       "      <td>688</td>\n",
       "    </tr>\n",
       "    <tr>\n",
       "      <th>4</th>\n",
       "      <td>1929</td>\n",
       "      <td>746</td>\n",
       "    </tr>\n",
       "  </tbody>\n",
       "</table>\n",
       "</div>"
      ],
      "text/plain": [
       "   Year  mineral and metal production incl. overburden/ waste\n",
       "0  1925                                                571   \n",
       "1  1926                                                585   \n",
       "2  1927                                                663   \n",
       "3  1928                                                688   \n",
       "4  1929                                                746   "
      ]
     },
     "execution_count": 29,
     "metadata": {},
     "output_type": "execute_result"
    }
   ],
   "source": [
    "# Upload waste/overburden resulted from mineral/metal production from Cooper et al., units [Mt/y]\n",
    "m_over = pd.read_excel(\"excavations_Cooper.xlsx\").iloc[:,[0,3]]\n",
    "m_over.head()"
   ]
  },
  {
   "cell_type": "markdown",
   "metadata": {},
   "source": [
    "To avoid double counting with our anthropogenic mass estimate, we subtracted from this combined estimate the mineral/metal production. \n",
    "This was performed by interpolating the production for all years, according the provided production estimates for selected years, using exponential fit."
   ]
  },
  {
   "cell_type": "code",
   "execution_count": 30,
   "metadata": {},
   "outputs": [
    {
     "data": {
      "text/html": [
       "<div>\n",
       "<style scoped>\n",
       "    .dataframe tbody tr th:only-of-type {\n",
       "        vertical-align: middle;\n",
       "    }\n",
       "\n",
       "    .dataframe tbody tr th {\n",
       "        vertical-align: top;\n",
       "    }\n",
       "\n",
       "    .dataframe thead th {\n",
       "        text-align: right;\n",
       "    }\n",
       "</style>\n",
       "<table border=\"1\" class=\"dataframe\">\n",
       "  <thead>\n",
       "    <tr style=\"text-align: right;\">\n",
       "      <th></th>\n",
       "      <th>metal/mineral</th>\n",
       "      <th>1925</th>\n",
       "      <th>1950</th>\n",
       "      <th>1975</th>\n",
       "      <th>2000</th>\n",
       "      <th>2010</th>\n",
       "      <th>2015</th>\n",
       "    </tr>\n",
       "  </thead>\n",
       "  <tbody>\n",
       "    <tr>\n",
       "      <th>0</th>\n",
       "      <td>Bauxite</td>\n",
       "      <td>1412305.0</td>\n",
       "      <td>84331901.0</td>\n",
       "      <td>77000000.0</td>\n",
       "      <td>139157577</td>\n",
       "      <td>228000000</td>\n",
       "      <td>294000000</td>\n",
       "    </tr>\n",
       "    <tr>\n",
       "      <th>1</th>\n",
       "      <td>Arsenic (white)</td>\n",
       "      <td>65927.0</td>\n",
       "      <td>46916.0</td>\n",
       "      <td>39373.0</td>\n",
       "      <td>66014</td>\n",
       "      <td>39310</td>\n",
       "      <td>37110</td>\n",
       "    </tr>\n",
       "    <tr>\n",
       "      <th>2</th>\n",
       "      <td>Asbestos</td>\n",
       "      <td>324119.0</td>\n",
       "      <td>1071930.0</td>\n",
       "      <td>4200000.0</td>\n",
       "      <td>2055207</td>\n",
       "      <td>2029137</td>\n",
       "      <td>1600000</td>\n",
       "    </tr>\n",
       "    <tr>\n",
       "      <th>3</th>\n",
       "      <td>Barytes</td>\n",
       "      <td>490737.0</td>\n",
       "      <td>1351343.0</td>\n",
       "      <td>5200000.0</td>\n",
       "      <td>6009764</td>\n",
       "      <td>9100000</td>\n",
       "      <td>7900000</td>\n",
       "    </tr>\n",
       "    <tr>\n",
       "      <th>4</th>\n",
       "      <td>Bentonite and fullers earth</td>\n",
       "      <td>189667.0</td>\n",
       "      <td>366054.0</td>\n",
       "      <td>6542000.0</td>\n",
       "      <td>15741258</td>\n",
       "      <td>18500000</td>\n",
       "      <td>21700000</td>\n",
       "    </tr>\n",
       "  </tbody>\n",
       "</table>\n",
       "</div>"
      ],
      "text/plain": [
       "                  metal/mineral       1925        1950        1975       2000  \\\n",
       "0                       Bauxite  1412305.0  84331901.0  77000000.0  139157577   \n",
       "1              Arsenic (white)     65927.0     46916.0     39373.0      66014   \n",
       "2                      Asbestos   324119.0   1071930.0   4200000.0    2055207   \n",
       "3                       Barytes   490737.0   1351343.0   5200000.0    6009764   \n",
       "4  Bentonite and fullers earth    189667.0    366054.0   6542000.0   15741258   \n",
       "\n",
       "        2010       2015  \n",
       "0  228000000  294000000  \n",
       "1      39310      37110  \n",
       "2    2029137    1600000  \n",
       "3    9100000    7900000  \n",
       "4   18500000   21700000  "
      ]
     },
     "execution_count": 30,
     "metadata": {},
     "output_type": "execute_result"
    }
   ],
   "source": [
    "# Upload metal/mineral production estimates from Cooper et al., units [tonnes/y]\n",
    "m_prod = pd.read_excel(\"mprod_Cooper_full.xlsx\")\n",
    "m_prod.head()"
   ]
  },
  {
   "cell_type": "code",
   "execution_count": 31,
   "metadata": {},
   "outputs": [],
   "source": [
    "# Sum all and convert to Megatonnes/year \n",
    "m_prod = pd.DataFrame({'Year':list(m_prod)[1:], 'Production': list(m_prod.sum()[1:]/1e6)}, columns = ['Year', 'Production'])\n",
    "\n",
    "# Interpolate the yearly production estimates from 1925 till 1976 using exponential fit, according to the years of interest\n",
    "a, b = np.polyfit(m_prod.iloc[:3,0], np.log(m_prod.iloc[:3,1]), 1)\n",
    "x = np.linspace(1925,1976,52)\n",
    "m_prod= np.exp(b)* np.exp(a*x)"
   ]
  },
  {
   "cell_type": "code",
   "execution_count": 32,
   "metadata": {},
   "outputs": [],
   "source": [
    "# Estimate the waste/overburden only and convert to Teratonnes   \n",
    "m_over = (m_over.iloc[:52,1] - m_prod)/1e6"
   ]
  },
  {
   "cell_type": "code",
   "execution_count": 33,
   "metadata": {},
   "outputs": [],
   "source": [
    "# Extrapolate the estimate from 1925 to 1900\n",
    "factor = (np.array(m_over[1:6])/ np.array(m_over[:5])).mean()\n",
    "m_over = pd.DataFrame({'Year': xrange(1900, 1977), 'm_over':[m_over[0] / (factor ** i) for i in range(26)][::-1]+ list(m_over[1:])}, columns = ['Year', 'm_over'])"
   ]
  },
  {
   "cell_type": "markdown",
   "metadata": {},
   "source": [
    "### overall mass associated with civil engineering earthworks, dredging and waste/overburden from metal and mineral production \n",
    "\n",
    "To calculate the mass excavated/moved, we sum the four contributions: dredging, civil engineering earthworks, waste/ overburden resulted from mineral/metal and coal production.  "
   ]
  },
  {
   "cell_type": "code",
   "execution_count": 34,
   "metadata": {},
   "outputs": [],
   "source": [
    "excavations = np.array(list(dredging.iloc[:77,1])) + np.array(list(coal_over.iloc[:77,1])) + np.array(list(earthwork[:77])) + np.array(list(m_over.iloc[:,1]))"
   ]
  },
  {
   "cell_type": "markdown",
   "metadata": {},
   "source": [
    "We add the accumulated excavated/moved mass to the anthropogenic mass estimate.  "
   ]
  },
  {
   "cell_type": "code",
   "execution_count": 35,
   "metadata": {},
   "outputs": [],
   "source": [
    "anthropogenic_mass_exca =  [anthropogenic_mass.iloc[0,7] + excavations[0]]\n",
    "for i in xrange(76):\n",
    "    anthropogenic_mass_exca.append((anthropogenic_mass.iloc[:,7] - anthropogenic_mass.iloc[:,7].shift(1))[i+1] + excavations[i+1] + anthropogenic_mass_exca[-1])"
   ]
  },
  {
   "cell_type": "markdown",
   "metadata": {},
   "source": [
    "## Saving anthropogenic mass & biomass data into file"
   ]
  },
  {
   "cell_type": "code",
   "execution_count": 36,
   "metadata": {},
   "outputs": [],
   "source": [
    "dic = {'Year': xrange(1900, 2021),\n",
    "                     'biomass': list(biomass.iloc[:121,0]),\n",
    "                     'biomass human': list(biomass_human),\n",
    "                     'biomass livestock': list(biomass_livestock),\n",
    "                     'biomass agriculture': list(biomass_agr),\n",
    "                     'anthropogenic mass human': list(anthropogenic_mass_human),\n",
    "                     'anthropogenic mass livestock': list(anthropogenic_mass_livestock),\n",
    "                     'anthropogenic mass agriculture': list(anthropogenic_mass_agr),\n",
    "                     'anthropogenic mass excavations': list(anthropogenic_mass_exca),\n",
    "                     'anthropogenic mass wood': list(anthropogenic_mass_wood),\n",
    "                     'anthropogenic mass CO2': list(anthropogenic_mass_CO2)}"
   ]
  },
  {
   "cell_type": "code",
   "execution_count": 37,
   "metadata": {},
   "outputs": [],
   "source": [
    "sensitivity = pd.DataFrame({k: pd.Series(l) for k, l in dic.iteritems()}, columns = ['Year', 'biomass','biomass human', 'biomass livestock', 'biomass agriculture','anthropogenic mass human', 'anthropogenic mass livestock', 'anthropogenic mass agriculture','anthropogenic mass excavations', 'anthropogenic mass wood', 'anthropogenic mass CO2']) \n",
    "file_path = os.path.abspath('')\n",
    "writer = pd.ExcelWriter(file_path + \"/../data/sensitivity_analysis.xlsx\")\n",
    "sensitivity.to_excel(writer, index=False)\n",
    "worksheet = writer.sheets['Sheet1']\n",
    "worksheet.write(0, 11, 'anthropogenic mass values refer to end of year estimates')\n",
    "writer.save()"
   ]
  }
 ],
 "metadata": {
  "kernelspec": {
   "display_name": "Python 2",
   "language": "python",
   "name": "python2"
  },
  "language_info": {
   "codemirror_mode": {
    "name": "ipython",
    "version": 2
   },
   "file_extension": ".py",
   "mimetype": "text/x-python",
   "name": "python",
   "nbconvert_exporter": "python",
   "pygments_lexer": "ipython2",
   "version": "2.7.15"
  }
 },
 "nbformat": 4,
 "nbformat_minor": 2
}
