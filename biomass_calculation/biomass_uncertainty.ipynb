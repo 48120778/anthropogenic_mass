{
 "cells": [
  {
   "cell_type": "code",
   "execution_count": 1,
   "metadata": {},
   "outputs": [],
   "source": [
    "# Load dependencies \n",
    "import numpy as np\n",
    "import pandas as pd\n",
    "import os\n",
    "import re\n",
    "from uncertainties import ufloat\n",
    "from uncertainties import unumpy\n",
    "from collections import defaultdict"
   ]
  },
  {
   "cell_type": "markdown",
   "metadata": {},
   "source": [
    "# Biomass uncertainty calculation \n",
    "\n",
    "This notebook is complementary to the biomass calculation notebook.\n",
    "Following the biomass calculation main steps, the uncertainty is first calculated for plant biomass, followed by non-plant biomass addition and multiplication by weight conversion factors. \n",
    "<br>In the first part, the uncertainty is derived using the Python Uncertainties Package error propagation. \n",
    "<br>In the second part, it was estimated using Monte Carlo simulations, with each parameter randomly drawn according to its uncertainty distribution. The process is repeated 10,000 times, with the resulting distribution dictating the overall uncertainty."
   ]
  },
  {
   "cell_type": "markdown",
   "metadata": {},
   "source": [
    "## Uncertainty estimation for the plant biomass\n",
    "\n",
    "The uncertainty for the plant biomass is calculated following our biomass calculation, using the Python Uncertainties Package."
   ]
  },
  {
   "cell_type": "markdown",
   "metadata": {},
   "source": [
    "#### Uncertainty of the fraction of forests out of the total plant biomass \n",
    "\n",
    "As part of the biomass calculation, we use the estimate of the fraction of forest out of the total plants biomass.  To estimate the uncertainty of the fraction, we use the data on general biomes plants biomass, from [Erb et al.](https://doi.org/10.1038/nature25138)."
   ]
  },
  {
   "cell_type": "code",
   "execution_count": 2,
   "metadata": {},
   "outputs": [
    {
     "data": {
      "text/html": [
       "<div>\n",
       "<style scoped>\n",
       "    .dataframe tbody tr th:only-of-type {\n",
       "        vertical-align: middle;\n",
       "    }\n",
       "\n",
       "    .dataframe tbody tr th {\n",
       "        vertical-align: top;\n",
       "    }\n",
       "\n",
       "    .dataframe thead th {\n",
       "        text-align: right;\n",
       "    }\n",
       "</style>\n",
       "<table border=\"1\" class=\"dataframe\">\n",
       "  <thead>\n",
       "    <tr style=\"text-align: right;\">\n",
       "      <th></th>\n",
       "      <th>biome</th>\n",
       "      <th>biomass [Gt C]</th>\n",
       "    </tr>\n",
       "  </thead>\n",
       "  <tbody>\n",
       "    <tr>\n",
       "      <th>0</th>\n",
       "      <td>Infrastructure</td>\n",
       "      <td>1</td>\n",
       "    </tr>\n",
       "    <tr>\n",
       "      <th>1</th>\n",
       "      <td>Cropland</td>\n",
       "      <td>10</td>\n",
       "    </tr>\n",
       "    <tr>\n",
       "      <th>2</th>\n",
       "      <td>Grassland and grazing land</td>\n",
       "      <td>82-83</td>\n",
       "    </tr>\n",
       "    <tr>\n",
       "      <th>3</th>\n",
       "      <td>Forests</td>\n",
       "      <td>297-368</td>\n",
       "    </tr>\n",
       "    <tr>\n",
       "      <th>4</th>\n",
       "      <td>Unused non forest land</td>\n",
       "      <td>16-17</td>\n",
       "    </tr>\n",
       "  </tbody>\n",
       "</table>\n",
       "</div>"
      ],
      "text/plain": [
       "                        biome biomass [Gt C]\n",
       "0              Infrastructure              1\n",
       "1                    Cropland             10\n",
       "2  Grassland and grazing land          82-83\n",
       "3                     Forests        297-368\n",
       "4      Unused non forest land          16-17"
      ]
     },
     "execution_count": 2,
     "metadata": {},
     "output_type": "execute_result"
    }
   ],
   "source": [
    "# Upload biomes biomass, from Erb et al. \n",
    "biomes_bm = pd.read_excel(\"general_biome_mass_Erb.xlsx\")\n",
    "biomes = dict(zip(list(biomes_bm['biome']), [map(int,re.findall(r'\\d+', x)) for x in map(str, biomes_bm['biomass [Gt C]'])]))\n",
    "biomes_bm"
   ]
  },
  {
   "cell_type": "markdown",
   "metadata": {},
   "source": [
    "To derive the corresponding uncertainty of forests out of the sum of the biomass of plants, we randomly draw the biomes plants biomass, according to the provided data, and follow the same calculation as further detailed in the biomass calculation notebook.  "
   ]
  },
  {
   "cell_type": "code",
   "execution_count": 3,
   "metadata": {},
   "outputs": [],
   "source": [
    "def get_forest_fraction(biome_dic, num):\n",
    "    fforest = np.empty(0)\n",
    "    for j in xrange(num):\n",
    "        bm_sum = 0\n",
    "        for biome in biome_dic.keys():\n",
    "            if len(biome_dic[biome])>1:\n",
    "                if biome == 'Forests':\n",
    "                    forest = np.random.normal(np.average(biome_dic[biome]), np.std(biome_dic[biome], ddof = 1))\n",
    "                    bm_sum = bm_sum +forest \n",
    "                else:\n",
    "                    bm_sum = bm_sum + np.random.normal(np.average(biome_dic[biome]), np.std(biome_dic[biome], ddof = 1))\n",
    "            else:\n",
    "                bm_sum = bm_sum + biomes[biome][0]\n",
    "        fforest = np.append(fforest,float(forest)/bm_sum)    \n",
    "    return fforest             "
   ]
  },
  {
   "cell_type": "markdown",
   "metadata": {},
   "source": [
    "The process is repeated 10,000 times:"
   ]
  },
  {
   "cell_type": "code",
   "execution_count": 4,
   "metadata": {},
   "outputs": [
    {
     "name": "stdout",
     "output_type": "stream",
     "text": [
      "forest fraction:  mean = 0.75 std = 0.03\n"
     ]
    }
   ],
   "source": [
    "num_iterations = 10000\n",
    "forestf = get_forest_fraction(biomes,num_iterations)\n",
    "print \"forest fraction:  mean = \" + str(np.mean(forestf).round(2)) + \" std = \"+ str(np.std(forestf).round(2))"
   ]
  },
  {
   "cell_type": "markdown",
   "metadata": {},
   "source": [
    "### Uncertainty of plant biomass estimates (1990-2017)\n",
    "\n",
    "We derive the uncertainty using Python Uncertainties Package error propagation."
   ]
  },
  {
   "cell_type": "code",
   "execution_count": 5,
   "metadata": {},
   "outputs": [],
   "source": [
    "# Upload biomass estimates from different sources, units [GtC] \n",
    "bm_est = pd.read_excel(\"bm_est.xlsx\", index_col =\"data source\")\n",
    "dgvm = pd.read_excel(\"DGVM_mean.xlsx\")"
   ]
  },
  {
   "cell_type": "code",
   "execution_count": 6,
   "metadata": {},
   "outputs": [],
   "source": [
    "# Normalize the estimates in relation to our 2010 plant biomass estimate    \n",
    "approach1= defaultdict(list)\n",
    "approach2 = defaultdict(list) \n",
    "PLANTS_BM = ufloat(450, 45)\n",
    "FOREST_FRAC = ufloat(np.mean(forestf),np.std(forestf))\n",
    "for source in set(bm_est.index):\n",
    "    est_dic = dict(zip(np.array(bm_est.loc[source]['year']), np.array(bm_est.loc[source]['biomass [GtC]'])))\n",
    "    for year in est_dic.keys():\n",
    "        if year != 2010:\n",
    "            if (source == 'Liu et al.'):\n",
    "                approach1[year].append(est_dic[year]/est_dic[2010] * PLANTS_BM)\n",
    "            if (source == 'DGVM'):\n",
    "                approach2[year].append(ufloat(dgvm.iloc[year-1900,1], dgvm.iloc[year-1900,2])/est_dic[2010] * PLANTS_BM)\n",
    "            if (source == 'FRA2010') or (source == 'Pan et al.') or (source == 'FAOstat'):\n",
    "                approach1[year].append(((est_dic[year]*(1/FOREST_FRAC))/(est_dic[2010]*(1/FOREST_FRAC))) * PLANTS_BM )"
   ]
  },
  {
   "cell_type": "code",
   "execution_count": 7,
   "metadata": {},
   "outputs": [],
   "source": [
    "# Calculate the best estimate for each year for each approach, which is the mean of all sources within the approach\n",
    "bm_plants = {2010: PLANTS_BM}\n",
    "for year in ([1990,2000,2012,2017]):\n",
    "    bm_plants[year] = (np.mean(np.array([np.mean(approach1[year]),approach2[year][0]])))"
   ]
  },
  {
   "cell_type": "markdown",
   "metadata": {},
   "source": [
    "### Uncertainty of plant biomass estimates (1900-1990)\n",
    "\n",
    "We derive the uncertainty using Python Uncertainties Package error propagation. "
   ]
  },
  {
   "cell_type": "code",
   "execution_count": 8,
   "metadata": {},
   "outputs": [],
   "source": [
    "# Normalize the estimates in relation to our 2010 biomass estimate \n",
    "for i in xrange(90):\n",
    "    bm_plants[1900+i]= (ufloat(dgvm.iloc[i,1],dgvm.iloc[i,2])/dgvm.iloc[90,1]* bm_plants[1990])"
   ]
  },
  {
   "cell_type": "markdown",
   "metadata": {},
   "source": [
    "## Uncertainty estimation for the overall biomass\n",
    "\n",
    "We derive the uncertainty by following our calculation steps, and randomly drawing the non-plant biomass, carbon-to-dry-weight and wet-to-dry-weight conversion factors, dynamic global vegetation models mean, as well as the 1990 plant biomass."
   ]
  },
  {
   "cell_type": "code",
   "execution_count": 9,
   "metadata": {},
   "outputs": [],
   "source": [
    "# Add non-plant biomass and multiply by conversion factors\n",
    "def get_BM_tot(num, bm_rec):\n",
    "    bm_tot= defaultdict(list)\n",
    "    bm_tot_w= defaultdict(list)\n",
    "    for j in xrange(num):\n",
    "        NON_PLANT_BM = np.random.lognormal(np.log(48.2), np.log(1.9)/1.96)\n",
    "        CFACTOR = np.random.normal(2.25,0.13)\n",
    "        WFACTOR = np.random.normal(2.0,0.3)\n",
    "        z = np.random.normal(0,1)\n",
    "        for year in bm_rec.keys():\n",
    "                bm_tot[year].append(((z*bm_rec[year].s) + bm_rec[year].n + NON_PLANT_BM)* CFACTOR)\n",
    "                bm_tot_w[year].append(bm_tot[year][-1]* WFACTOR)\n",
    "    # averaging all runs \n",
    "    for y in bm_tot.keys():\n",
    "        bm_tot[y] = ufloat((np.mean(np.array(bm_tot[y]))),(np.std(np.array(bm_tot[y]), ddof=1)))\n",
    "        bm_tot_w[y] = ufloat((np.mean(np.array(bm_tot_w[y]))),(np.std(np.array(bm_tot_w[y]), ddof=1)))\n",
    "    return bm_tot, bm_tot_w"
   ]
  },
  {
   "cell_type": "markdown",
   "metadata": {},
   "source": [
    "We repeat the process 10,000 times: "
   ]
  },
  {
   "cell_type": "code",
   "execution_count": 10,
   "metadata": {},
   "outputs": [],
   "source": [
    "num_iterations = 10000\n",
    "bm_dic_tot, bm_dic_tot_w = get_BM_tot(num_iterations, bm_plants)"
   ]
  },
  {
   "cell_type": "code",
   "execution_count": 11,
   "metadata": {},
   "outputs": [],
   "source": [
    "year = np.linspace(1900,1990,91)\n",
    "years = np.concatenate([year,np.array([2000,2010,2012,2017])])\n",
    "bm = np.empty(0)\n",
    "bm_w = np.empty(0)\n",
    "for year in list(years):\n",
    "    bm = np.append(bm, bm_dic_tot[year])\n",
    "    bm_w = np.append(bm_w, bm_dic_tot_w[year])"
   ]
  },
  {
   "cell_type": "markdown",
   "metadata": {},
   "source": [
    "#### saving biomass uncertainty data into file"
   ]
  },
  {
   "cell_type": "code",
   "execution_count": 12,
   "metadata": {},
   "outputs": [],
   "source": [
    "file_path = os.path.abspath('')\n",
    "bm_tot_uc = pd.DataFrame({'biomass std (%)': (np.array([x.s/x.n for x in bm])*100), 'year':np.int_(years)})\n",
    "bm_tot_uc.to_excel(file_path + \"/../data/biomass_dry_uc.xlsx\", index=False)\n",
    "bmw_tot_uc = pd.DataFrame({'biomass std (%)': (np.array([x.s/x.n for x in bm_w])*100), 'year':np.int_(years)})\n",
    "bmw_tot_uc.to_excel(file_path + \"/../data/biomass_wet_uc.xlsx\", index=False)"
   ]
  }
 ],
 "metadata": {
  "kernelspec": {
   "display_name": "Python 2",
   "language": "python",
   "name": "python2"
  },
  "language_info": {
   "codemirror_mode": {
    "name": "ipython",
    "version": 2
   },
   "file_extension": ".py",
   "mimetype": "text/x-python",
   "name": "python",
   "nbconvert_exporter": "python",
   "pygments_lexer": "ipython2",
   "version": "2.7.15"
  }
 },
 "nbformat": 4,
 "nbformat_minor": 2
}
