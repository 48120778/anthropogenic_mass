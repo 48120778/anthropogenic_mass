{
 "cells": [
  {
   "cell_type": "code",
   "execution_count": 1,
   "metadata": {},
   "outputs": [],
   "source": [
    "# Load dependencies \n",
    "import numpy as np\n",
    "import pandas as pd\n",
    "from collections import defaultdict\n",
    "import os"
   ]
  },
  {
   "cell_type": "markdown",
   "metadata": {},
   "source": [
    "# Biomass estimation\n",
    "\n",
    "Our biomass calculation estimation is divided into two time periods: 1900-1990 & 1990-2017.\n",
    "We first estimate the plant biomass, which represents ≈90% of the global biomass [(Bar-On et al., 2018](https://doi.org/10.1073/pnas.1711842115)[, 2019)](https://doi.org/10.1038/s41579-019-0162-0). \n",
    "\n",
    "\n",
    "## 1990-2017 plant biomass estimation\n",
    "\n",
    "Our plant biomass value for 2010 is based on [(Bar-On et al.)](https://doi.org/10.1073/pnas.1711842115), which relies on [(Erb et al.)](https://doi.org/10.1038/nature25138) estimate which consists of the mean of seven different global plant biomass maps, based on inventories or remote sensing.\n",
    "\n",
    "To estimate the total plant biomass for the years 1990-2017, we rely on two approaches:\n",
    "1. Based on three main data sources, employing inventory measurements or remote sensing ([Pan et al.](https://doi.org/10.1126/science.1201609); [Liu et al.](https://doi.org/10.1038/nclimate2581); [FRA 2010](http://www.fao.org/3/i1757e/i1757e.pdf) followed by [FAOSTAT](http://faostat.fao.org) for later years).\n",
    "2. Based on ensemble of 15 Dynamic Global Vegetation Models [(TRENDY)](https://sites.exeter.ac.uk/trendy).\n",
    "\n",
    "\n",
    "We use plant biomass estimates of five different time points (1990, 2000, 2010, 2012, 2017), chosen according to data availability (for Pan et al., we used the 2007 estimate; for Liu et al. we used the 1993 estimate as 1990). "
   ]
  },
  {
   "cell_type": "code",
   "execution_count": 2,
   "metadata": {},
   "outputs": [],
   "source": [
    "# Upload biomass estimates from different sources, units [GtC] \n",
    "bm_est = pd.read_excel(\"bm_est.xlsx\", index_col =\"data source\")"
   ]
  },
  {
   "cell_type": "markdown",
   "metadata": {},
   "source": [
    "We first normalize the estimates of the different sources in relation to our 2010 estimate, according to the plant biomass component each source includes (all plants or forests), where we divide the sources into the two approaches."
   ]
  },
  {
   "cell_type": "code",
   "execution_count": 3,
   "metadata": {},
   "outputs": [],
   "source": [
    "# Normalize the estimates in relation to our 2010 plant biomass estimate    \n",
    "approach1= defaultdict(list)\n",
    "approach2 = defaultdict(list) \n",
    "PLANTS_BM = 450 \n",
    "FOREST_FRAC = 0.75\n",
    "for source in set(bm_est.index):\n",
    "    est_dic = dict(zip(np.array(bm_est.loc[source]['year']), np.array(bm_est.loc[source]['biomass [GtC]'])))\n",
    "    for year in est_dic.keys():\n",
    "        if year != 2010:\n",
    "            if (source == 'Liu et al.'):\n",
    "                approach1[year].append(est_dic[year]/est_dic[2010] * PLANTS_BM)\n",
    "            if (source == 'DGVM'):\n",
    "                approach2[year].append(est_dic[year]/est_dic[2010]  * PLANTS_BM)\n",
    "            if (source == 'FRA2010') or (source == 'Pan et al.') or (source == 'FAOstat'):\n",
    "                approach1[year].append(((est_dic[year]*(1/FOREST_FRAC))/(est_dic[2010]*(1/FOREST_FRAC))) * PLANTS_BM)"
   ]
  },
  {
   "cell_type": "markdown",
   "metadata": {},
   "source": [
    "Next, for each time point, we take the mean of the normalized biomass estimates across the different sources, to obtain the biomass estimate for each of the time points. To generate our best estimate, we take the mean of the two approaches: \n",
    "1. Inventory measurements or remote sensing\n",
    "2. Dynamic Global Vegetation Models"
   ]
  },
  {
   "cell_type": "code",
   "execution_count": 4,
   "metadata": {},
   "outputs": [],
   "source": [
    "# Calculate the best estimate for each year for each approach, which is the mean of all sources within the approach\n",
    "bm_plants = {2010: PLANTS_BM}\n",
    "for year in ([1990,2000,2012,2017]):\n",
    "    bm_plants[year] = (np.mean(np.array([np.mean(approach1[year]),approach2[year][0]])))"
   ]
  },
  {
   "cell_type": "markdown",
   "metadata": {},
   "source": [
    "## 1900-1990 plant biomass estimation\n",
    "\n",
    "The 1900-1900 estimate relies on the 15 [Dynamic Global Vegetation Models ensemble](https://sites.exeter.ac.uk/trendy) annual mean, which was normalized according to our 1990 estimate, calculated above."
   ]
  },
  {
   "cell_type": "code",
   "execution_count": 5,
   "metadata": {},
   "outputs": [],
   "source": [
    "# Upload plant biomass estimates of the Dynamic Global Vegetation Models ensemble, units [GtC]\n",
    "dgvm = pd.read_excel('DGVM_mean.xlsx')"
   ]
  },
  {
   "cell_type": "code",
   "execution_count": 6,
   "metadata": {},
   "outputs": [],
   "source": [
    "# Normalize the estimates in relation to our 2010 biomass estimate \n",
    "for i in xrange(91):\n",
    "    bm_plants[1900+i]= (dgvm.iloc[i,1]/dgvm.iloc[90,1]* bm_plants[1990])"
   ]
  },
  {
   "cell_type": "markdown",
   "metadata": {},
   "source": [
    "## Overall biomass estimate\n",
    "\n",
    "As a final step, the non-plant biomass was added to the plant biomass. \n",
    "The non-plant estimate was derived according to [(Bar-On et al.)](https://doi.org/10.1073/pnas.1711842115), with updates for the biomass of bacteria and archaea kingdoms [(Magnabosco et al.,](https://www.nature.com/articles/s41561-018-0221-6) [Bar-On et al.)](https://doi.org/10.1038/s41579-019-0162-0)."
   ]
  },
  {
   "cell_type": "code",
   "execution_count": 7,
   "metadata": {},
   "outputs": [],
   "source": [
    "# Add non-plant biomass \n",
    "years = np.array(bm_plants.keys())\n",
    "plants = np.array(bm_plants.values())\n",
    "NON_PLANT_BM = 48.2\n",
    "bm = plants + NON_PLANT_BM"
   ]
  },
  {
   "cell_type": "markdown",
   "metadata": {},
   "source": [
    "## Biomass extrapolation 2018-2037\n",
    "\n",
    "To extrapolate the future biomass change, we use the linear rate of change calculated for 2010-2017, and assume it remains constant."
   ]
  },
  {
   "cell_type": "code",
   "execution_count": 8,
   "metadata": {},
   "outputs": [],
   "source": [
    "# Calculate rate of change 2010-2017 \n",
    "trend = np.polyfit(years[-3:],bm[-3:],1)[0]\n",
    "\n",
    "# Apply the rate to future years \n",
    "years_ext = np.linspace(2018,2037,20)\n",
    "for i in xrange(len(years_ext)):\n",
    "    bm = np.append(bm,bm[-1]+trend)\n",
    "\n",
    "years = np.concatenate([years,years_ext])"
   ]
  },
  {
   "cell_type": "markdown",
   "metadata": {},
   "source": [
    "### Conversion of carbon-weight basis to dry-weight basis \n",
    "\n",
    "To convert the biomass to a dry-weight basis, we multiply by the corresponding conversion factor."
   ]
  },
  {
   "cell_type": "code",
   "execution_count": 9,
   "metadata": {},
   "outputs": [],
   "source": [
    "CFACTOR = 2.25\n",
    "bm_d = CFACTOR * bm"
   ]
  },
  {
   "cell_type": "markdown",
   "metadata": {},
   "source": [
    "### Conversion of dry-weight basis to wet-weight basis\n",
    "\n",
    "To convert the biomass to a wet-weight basis, we multiply by the corresponding conversion factor."
   ]
  },
  {
   "cell_type": "code",
   "execution_count": 10,
   "metadata": {},
   "outputs": [],
   "source": [
    "WFACTOR = 2.0\n",
    "bm_w = WFACTOR * bm_d"
   ]
  },
  {
   "cell_type": "markdown",
   "metadata": {},
   "source": [
    "#### Saving biomass data into file"
   ]
  },
  {
   "cell_type": "code",
   "execution_count": 11,
   "metadata": {},
   "outputs": [],
   "source": [
    "file_path = os.path.abspath('')"
   ]
  },
  {
   "cell_type": "code",
   "execution_count": 12,
   "metadata": {},
   "outputs": [],
   "source": [
    "bm_tot = pd.DataFrame({'biomass (Tt)': bm_d/1000, 'year':np.int_(years)})\n",
    "bm_tot.to_excel(file_path + \"/../data/biomass_dry.xlsx\", index=False)\n",
    "bmw_tot = pd.DataFrame({'biomass (Tt)': bm_w/1000, 'year':np.int_(years)})\n",
    "bmw_tot.to_excel(file_path + \"/../data/biomass_wet.xlsx\", index=False)"
   ]
  }
 ],
 "metadata": {
  "kernelspec": {
   "display_name": "Python 2",
   "language": "python",
   "name": "python2"
  },
  "language_info": {
   "codemirror_mode": {
    "name": "ipython",
    "version": 2
   },
   "file_extension": ".py",
   "mimetype": "text/x-python",
   "name": "python",
   "nbconvert_exporter": "python",
   "pygments_lexer": "ipython2",
   "version": "2.7.15"
  }
 },
 "nbformat": 4,
 "nbformat_minor": 2
}
