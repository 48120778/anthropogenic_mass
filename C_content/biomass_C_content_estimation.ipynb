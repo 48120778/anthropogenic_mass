{
 "cells": [
  {
   "cell_type": "code",
   "execution_count": 1,
   "metadata": {},
   "outputs": [],
   "source": [
    "# Load dependencies \n",
    "import numpy as np\n",
    "import pandas as pd\n",
    "from uncertainties import ufloat\n",
    "from uncertainties import unumpy"
   ]
  },
  {
   "cell_type": "markdown",
   "metadata": {},
   "source": [
    "# Biomass C content estimation\n",
    "\n",
    "Biomass is presented in the paper on a dry-weight basis. As part of the biomass calculation, we converted biomass in carbon-weight basis to dry-weight basis by multiplying by a conversion factor. \n",
    "\n",
    "## Conversion factor calculation  \n",
    "\n",
    "The conversion factor was calculated based on C content estimates of the different plant compartments (leaves, stems and roots) of different biomes, from [Tang et al.](https://doi.org/10.1073/pnas.1700295114) (units: (mg/g)). "
   ]
  },
  {
   "cell_type": "code",
   "execution_count": 2,
   "metadata": {},
   "outputs": [
    {
     "data": {
      "text/html": [
       "<div>\n",
       "<style scoped>\n",
       "    .dataframe tbody tr th:only-of-type {\n",
       "        vertical-align: middle;\n",
       "    }\n",
       "\n",
       "    .dataframe tbody tr th {\n",
       "        vertical-align: top;\n",
       "    }\n",
       "\n",
       "    .dataframe thead th {\n",
       "        text-align: right;\n",
       "    }\n",
       "</style>\n",
       "<table border=\"1\" class=\"dataframe\">\n",
       "  <thead>\n",
       "    <tr style=\"text-align: right;\">\n",
       "      <th></th>\n",
       "      <th>biome</th>\n",
       "      <th>leaf</th>\n",
       "      <th>stem</th>\n",
       "      <th>root</th>\n",
       "      <th>leaf std</th>\n",
       "      <th>stem std</th>\n",
       "      <th>root std</th>\n",
       "    </tr>\n",
       "  </thead>\n",
       "  <tbody>\n",
       "    <tr>\n",
       "      <th>0</th>\n",
       "      <td>evergreen broadleaf forests</td>\n",
       "      <td>467.4</td>\n",
       "      <td>463.8</td>\n",
       "      <td>447.2</td>\n",
       "      <td>20.747184</td>\n",
       "      <td>24.736218</td>\n",
       "      <td>29.378187</td>\n",
       "    </tr>\n",
       "    <tr>\n",
       "      <th>1</th>\n",
       "      <td>deciduous broadleaf forests</td>\n",
       "      <td>450.9</td>\n",
       "      <td>449.1</td>\n",
       "      <td>429.1</td>\n",
       "      <td>23.311023</td>\n",
       "      <td>19.879046</td>\n",
       "      <td>27.905318</td>\n",
       "    </tr>\n",
       "    <tr>\n",
       "      <th>2</th>\n",
       "      <td>coniferous forests</td>\n",
       "      <td>484.5</td>\n",
       "      <td>477.8</td>\n",
       "      <td>465.2</td>\n",
       "      <td>27.887402</td>\n",
       "      <td>23.824400</td>\n",
       "      <td>26.465186</td>\n",
       "    </tr>\n",
       "    <tr>\n",
       "      <th>3</th>\n",
       "      <td>mixed forests</td>\n",
       "      <td>463.7</td>\n",
       "      <td>468.6</td>\n",
       "      <td>453.1</td>\n",
       "      <td>33.587979</td>\n",
       "      <td>22.119333</td>\n",
       "      <td>25.599334</td>\n",
       "    </tr>\n",
       "    <tr>\n",
       "      <th>4</th>\n",
       "      <td>evergreen shrublands</td>\n",
       "      <td>411.2</td>\n",
       "      <td>403.9</td>\n",
       "      <td>393.4</td>\n",
       "      <td>61.659931</td>\n",
       "      <td>56.488924</td>\n",
       "      <td>56.210182</td>\n",
       "    </tr>\n",
       "    <tr>\n",
       "      <th>5</th>\n",
       "      <td>deciduous shrublands</td>\n",
       "      <td>405.0</td>\n",
       "      <td>420.1</td>\n",
       "      <td>407.3</td>\n",
       "      <td>44.761097</td>\n",
       "      <td>41.162562</td>\n",
       "      <td>39.565167</td>\n",
       "    </tr>\n",
       "    <tr>\n",
       "      <th>6</th>\n",
       "      <td>grassland</td>\n",
       "      <td>396.9</td>\n",
       "      <td>NaN</td>\n",
       "      <td>322.9</td>\n",
       "      <td>25.815772</td>\n",
       "      <td>NaN</td>\n",
       "      <td>43.112185</td>\n",
       "    </tr>\n",
       "  </tbody>\n",
       "</table>\n",
       "</div>"
      ],
      "text/plain": [
       "                         biome   leaf   stem   root   leaf std   stem std  \\\n",
       "0  evergreen broadleaf forests  467.4  463.8  447.2  20.747184  24.736218   \n",
       "1  deciduous broadleaf forests  450.9  449.1  429.1  23.311023  19.879046   \n",
       "2           coniferous forests  484.5  477.8  465.2  27.887402  23.824400   \n",
       "3                mixed forests  463.7  468.6  453.1  33.587979  22.119333   \n",
       "4         evergreen shrublands  411.2  403.9  393.4  61.659931  56.488924   \n",
       "5         deciduous shrublands  405.0  420.1  407.3  44.761097  41.162562   \n",
       "6                   grassland   396.9    NaN  322.9  25.815772        NaN   \n",
       "\n",
       "    root std  \n",
       "0  29.378187  \n",
       "1  27.905318  \n",
       "2  26.465186  \n",
       "3  25.599334  \n",
       "4  56.210182  \n",
       "5  39.565167  \n",
       "6  43.112185  "
      ]
     },
     "execution_count": 2,
     "metadata": {},
     "output_type": "execute_result"
    }
   ],
   "source": [
    "# Upload C content data from Tang et al., units [mg/g]\n",
    "c_content = pd.read_excel(\"C_content_Tang.xlsx\")\n",
    "c_content"
   ]
  },
  {
   "cell_type": "code",
   "execution_count": 3,
   "metadata": {},
   "outputs": [],
   "source": [
    "# Save parameters to unumpy arrays \n",
    "cleaf = unumpy.uarray(list(c_content['leaf']), list(c_content['leaf std']))\n",
    "cstem = unumpy.uarray(list(c_content['stem'].fillna(0)), list(c_content['stem std'].fillna(0)))\n",
    "croot = unumpy.uarray(list(c_content['root']), list(c_content['root std']))"
   ]
  },
  {
   "cell_type": "markdown",
   "metadata": {},
   "source": [
    "For each biome, we calculate the weighted average C content according to the mass fraction of each plant compartment. Information on plants compartmental mass composition was obtained from [Poorter et al.](https://nph.onlinelibrary.wiley.com/doi/full/10.1111/j.1469-8137.2011.03952.x). "
   ]
  },
  {
   "cell_type": "code",
   "execution_count": 4,
   "metadata": {},
   "outputs": [
    {
     "data": {
      "text/html": [
       "<div>\n",
       "<style scoped>\n",
       "    .dataframe tbody tr th:only-of-type {\n",
       "        vertical-align: middle;\n",
       "    }\n",
       "\n",
       "    .dataframe tbody tr th {\n",
       "        vertical-align: top;\n",
       "    }\n",
       "\n",
       "    .dataframe thead th {\n",
       "        text-align: right;\n",
       "    }\n",
       "</style>\n",
       "<table border=\"1\" class=\"dataframe\">\n",
       "  <thead>\n",
       "    <tr style=\"text-align: right;\">\n",
       "      <th></th>\n",
       "      <th>biome</th>\n",
       "      <th>leaf</th>\n",
       "      <th>stem</th>\n",
       "      <th>root</th>\n",
       "      <th>leaf std</th>\n",
       "      <th>stem std</th>\n",
       "      <th>root std</th>\n",
       "    </tr>\n",
       "  </thead>\n",
       "  <tbody>\n",
       "    <tr>\n",
       "      <th>0</th>\n",
       "      <td>evergreen broadleaf forests</td>\n",
       "      <td>0.02</td>\n",
       "      <td>0.82</td>\n",
       "      <td>0.16</td>\n",
       "      <td>0.00748</td>\n",
       "      <td>0.05658</td>\n",
       "      <td>0.05344</td>\n",
       "    </tr>\n",
       "    <tr>\n",
       "      <th>1</th>\n",
       "      <td>deciduous broadleaf forests</td>\n",
       "      <td>0.03</td>\n",
       "      <td>0.76</td>\n",
       "      <td>0.21</td>\n",
       "      <td>0.01392</td>\n",
       "      <td>0.05852</td>\n",
       "      <td>0.05271</td>\n",
       "    </tr>\n",
       "    <tr>\n",
       "      <th>2</th>\n",
       "      <td>coniferous forests</td>\n",
       "      <td>0.04</td>\n",
       "      <td>0.75</td>\n",
       "      <td>0.21</td>\n",
       "      <td>0.02784</td>\n",
       "      <td>0.07725</td>\n",
       "      <td>0.05292</td>\n",
       "    </tr>\n",
       "    <tr>\n",
       "      <th>3</th>\n",
       "      <td>mixed forests</td>\n",
       "      <td>0.03</td>\n",
       "      <td>0.76</td>\n",
       "      <td>0.21</td>\n",
       "      <td>0.01392</td>\n",
       "      <td>0.05852</td>\n",
       "      <td>0.05271</td>\n",
       "    </tr>\n",
       "    <tr>\n",
       "      <th>4</th>\n",
       "      <td>evergreen shrublands</td>\n",
       "      <td>0.07</td>\n",
       "      <td>0.52</td>\n",
       "      <td>0.41</td>\n",
       "      <td>0.02499</td>\n",
       "      <td>0.11544</td>\n",
       "      <td>0.16400</td>\n",
       "    </tr>\n",
       "    <tr>\n",
       "      <th>5</th>\n",
       "      <td>deciduous shrublands</td>\n",
       "      <td>0.07</td>\n",
       "      <td>0.52</td>\n",
       "      <td>0.41</td>\n",
       "      <td>0.02499</td>\n",
       "      <td>0.11544</td>\n",
       "      <td>0.16400</td>\n",
       "    </tr>\n",
       "    <tr>\n",
       "      <th>6</th>\n",
       "      <td>grassland</td>\n",
       "      <td>0.23</td>\n",
       "      <td>NaN</td>\n",
       "      <td>0.77</td>\n",
       "      <td>0.14306</td>\n",
       "      <td>NaN</td>\n",
       "      <td>0.10318</td>\n",
       "    </tr>\n",
       "  </tbody>\n",
       "</table>\n",
       "</div>"
      ],
      "text/plain": [
       "                         biome  leaf  stem  root  leaf std  stem std  root std\n",
       "0  evergreen broadleaf forests  0.02  0.82  0.16   0.00748   0.05658   0.05344\n",
       "1  deciduous broadleaf forests  0.03  0.76  0.21   0.01392   0.05852   0.05271\n",
       "2           coniferous forests  0.04  0.75  0.21   0.02784   0.07725   0.05292\n",
       "3                mixed forests  0.03  0.76  0.21   0.01392   0.05852   0.05271\n",
       "4         evergreen shrublands  0.07  0.52  0.41   0.02499   0.11544   0.16400\n",
       "5         deciduous shrublands  0.07  0.52  0.41   0.02499   0.11544   0.16400\n",
       "6                   grassland   0.23   NaN  0.77   0.14306       NaN   0.10318"
      ]
     },
     "execution_count": 4,
     "metadata": {},
     "output_type": "execute_result"
    }
   ],
   "source": [
    "# Upload compartmental mass composition, from Poorter et al., classified according to Tang et al. biomes   \n",
    "compart_comp = pd.read_excel(\"compartment_comp_Poorter.xlsx\")\n",
    "compart_comp"
   ]
  },
  {
   "cell_type": "code",
   "execution_count": 5,
   "metadata": {},
   "outputs": [],
   "source": [
    "# Save parameters to unumpy arrays \n",
    "fleaf = unumpy.uarray(list(compart_comp['leaf']), list(compart_comp['leaf std']))\n",
    "fstem = unumpy.uarray(list(compart_comp['stem'].fillna(0)), list(compart_comp['stem std'].fillna(0)))\n",
    "froot = unumpy.uarray(list(compart_comp['root']), list(compart_comp['root std']))"
   ]
  },
  {
   "cell_type": "code",
   "execution_count": 6,
   "metadata": {},
   "outputs": [],
   "source": [
    "# Calculate the weighted average for each biome \n",
    "cbiome = (cleaf*fleaf)+(cstem*fstem)+(croot*froot) "
   ]
  },
  {
   "cell_type": "markdown",
   "metadata": {},
   "source": [
    "Next, we calculate the plants conversion factor, according to the mass fraction of each biome, which was calculated by the corresponding mass of each of the biome categories, derived from [Erb et al.](https://doi.org/10.1038/nature25138)."
   ]
  },
  {
   "cell_type": "code",
   "execution_count": 7,
   "metadata": {},
   "outputs": [
    {
     "data": {
      "text/html": [
       "<div>\n",
       "<style scoped>\n",
       "    .dataframe tbody tr th:only-of-type {\n",
       "        vertical-align: middle;\n",
       "    }\n",
       "\n",
       "    .dataframe tbody tr th {\n",
       "        vertical-align: top;\n",
       "    }\n",
       "\n",
       "    .dataframe thead th {\n",
       "        text-align: right;\n",
       "    }\n",
       "</style>\n",
       "<table border=\"1\" class=\"dataframe\">\n",
       "  <thead>\n",
       "    <tr style=\"text-align: right;\">\n",
       "      <th></th>\n",
       "      <th>biome</th>\n",
       "      <th>biomass [Gt C]</th>\n",
       "      <th>biomass std</th>\n",
       "    </tr>\n",
       "  </thead>\n",
       "  <tbody>\n",
       "    <tr>\n",
       "      <th>0</th>\n",
       "      <td>evergreen broadleaf forests</td>\n",
       "      <td>267.5</td>\n",
       "      <td>47.376154</td>\n",
       "    </tr>\n",
       "    <tr>\n",
       "      <th>1</th>\n",
       "      <td>deciduous broadleaf forests</td>\n",
       "      <td>17.0</td>\n",
       "      <td>0.707107</td>\n",
       "    </tr>\n",
       "    <tr>\n",
       "      <th>2</th>\n",
       "      <td>coniferous forests</td>\n",
       "      <td>31.0</td>\n",
       "      <td>1.414214</td>\n",
       "    </tr>\n",
       "    <tr>\n",
       "      <th>3</th>\n",
       "      <td>mixed forests</td>\n",
       "      <td>17.0</td>\n",
       "      <td>0.707107</td>\n",
       "    </tr>\n",
       "    <tr>\n",
       "      <th>4</th>\n",
       "      <td>evergreen shrublands</td>\n",
       "      <td>47.0</td>\n",
       "      <td>0.000000</td>\n",
       "    </tr>\n",
       "    <tr>\n",
       "      <th>5</th>\n",
       "      <td>deciduous shrublands</td>\n",
       "      <td>10.5</td>\n",
       "      <td>0.707107</td>\n",
       "    </tr>\n",
       "    <tr>\n",
       "      <th>6</th>\n",
       "      <td>grassland</td>\n",
       "      <td>42.5</td>\n",
       "      <td>0.707107</td>\n",
       "    </tr>\n",
       "  </tbody>\n",
       "</table>\n",
       "</div>"
      ],
      "text/plain": [
       "                         biome  biomass [Gt C]  biomass std\n",
       "0  evergreen broadleaf forests           267.5    47.376154\n",
       "1  deciduous broadleaf forests            17.0     0.707107\n",
       "2           coniferous forests            31.0     1.414214\n",
       "3                mixed forests            17.0     0.707107\n",
       "4         evergreen shrublands            47.0     0.000000\n",
       "5         deciduous shrublands            10.5     0.707107\n",
       "6                   grassland             42.5     0.707107"
      ]
     },
     "execution_count": 7,
     "metadata": {},
     "output_type": "execute_result"
    }
   ],
   "source": [
    "# Upload biomes biomass, from Erb et al., classified according to Tang et al. biomes  \n",
    "mbiome = pd.read_excel('biome_mass_Erb.xlsx')\n",
    "mbiome"
   ]
  },
  {
   "cell_type": "code",
   "execution_count": 8,
   "metadata": {},
   "outputs": [],
   "source": [
    "# Save to unumpy array \n",
    "mbiomes = unumpy.uarray(list(mbiome['biomass [Gt C]']), list(mbiome['biomass std']))\n",
    "\n",
    "# Calculate the overall conversion factor \n",
    "cplants_factor = 1000/np.sum((cbiome* (mbiomes/np.sum(mbiomes))))"
   ]
  },
  {
   "cell_type": "markdown",
   "metadata": {},
   "source": [
    "In the overall carbon-weight to dry-weight conversion factor, we also accounted the C content of non-plant biomass, which was based on estimates from [Heldal et al.](https://aem.asm.org/content/50/5/1251.short) and [von Stockar](https://www.sciencedirect.com/science/article/pii/S0005272899000651). We used the current estimate of non-plant biomass fraction - about 10% of the total biomass, according to [Bar-On et al.](https://doi.org/10.1073/pnas.1711842115) and [updates](https://doi.org/10.1038/s41561-018-0221-6)."
   ]
  },
  {
   "cell_type": "code",
   "execution_count": 9,
   "metadata": {},
   "outputs": [
    {
     "data": {
      "text/html": [
       "<div>\n",
       "<style scoped>\n",
       "    .dataframe tbody tr th:only-of-type {\n",
       "        vertical-align: middle;\n",
       "    }\n",
       "\n",
       "    .dataframe tbody tr th {\n",
       "        vertical-align: top;\n",
       "    }\n",
       "\n",
       "    .dataframe thead th {\n",
       "        text-align: right;\n",
       "    }\n",
       "</style>\n",
       "<table border=\"1\" class=\"dataframe\">\n",
       "  <thead>\n",
       "    <tr style=\"text-align: right;\">\n",
       "      <th></th>\n",
       "      <th>biological specimen</th>\n",
       "      <th>C content</th>\n",
       "    </tr>\n",
       "  </thead>\n",
       "  <tbody>\n",
       "    <tr>\n",
       "      <th>0</th>\n",
       "      <td>E. coli</td>\n",
       "      <td>0.48</td>\n",
       "    </tr>\n",
       "    <tr>\n",
       "      <th>1</th>\n",
       "      <td>bacteria</td>\n",
       "      <td>0.47</td>\n",
       "    </tr>\n",
       "  </tbody>\n",
       "</table>\n",
       "</div>"
      ],
      "text/plain": [
       "  biological specimen  C content\n",
       "0             E. coli       0.48\n",
       "1           bacteria        0.47"
      ]
     },
     "execution_count": 9,
     "metadata": {},
     "output_type": "execute_result"
    }
   ],
   "source": [
    "# Upload non plant C content data, units [g/g]  \n",
    "cnon_plant = pd.read_excel('C_content_non_plant.xlsx')\n",
    "cnon_plant"
   ]
  },
  {
   "cell_type": "code",
   "execution_count": 10,
   "metadata": {},
   "outputs": [
    {
     "name": "stdout",
     "output_type": "stream",
     "text": [
      "Our best estimate of the C content conversion factor is: 2.25, with uncertainty (±1 standard deviation): 0.13\n"
     ]
    }
   ],
   "source": [
    "# Calculate conversion factors \n",
    "cnon_plant_factor = ufloat(np.average(cnon_plant['C content']) ,np.std(cnon_plant['C content'], ddof = 1))\n",
    "cfactor = (cplants_factor*0.9) +(0.1*(1/cnon_plant_factor))\n",
    "cfactor\n",
    "print 'Our best estimate of the C content conversion factor is: ' + \"%.2f\" % (cfactor.n) + ', with uncertainty (±1 standard deviation): ' + \"%.2f\" % (cfactor.s) "
   ]
  }
 ],
 "metadata": {
  "kernelspec": {
   "display_name": "Python 2",
   "language": "python",
   "name": "python2"
  },
  "language_info": {
   "codemirror_mode": {
    "name": "ipython",
    "version": 2
   },
   "file_extension": ".py",
   "mimetype": "text/x-python",
   "name": "python",
   "nbconvert_exporter": "python",
   "pygments_lexer": "ipython2",
   "version": "2.7.15"
  }
 },
 "nbformat": 4,
 "nbformat_minor": 2
}
